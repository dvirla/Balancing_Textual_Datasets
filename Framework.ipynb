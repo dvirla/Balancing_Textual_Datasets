{
 "cells": [
  {
   "cell_type": "code",
   "execution_count": 1,
   "id": "eba086de",
   "metadata": {},
   "outputs": [],
   "source": [
    "%load_ext autoreload\n",
    "%autoreload 2"
   ]
  },
  {
   "cell_type": "code",
   "execution_count": 2,
   "id": "e7c884c0",
   "metadata": {},
   "outputs": [],
   "source": [
    "import pandas as pd\n",
    "import glob\n",
    "import fasttext\n",
    "import pickle\n",
    "import numpy as np\n",
    "import matplotlib.pyplot as plt\n",
    "from preprocess import DatasetPreprocess\n",
    "from CustomModel import Model\n",
    "from sklearn.model_selection import train_test_split\n",
    "import csv\n",
    "from pprint import pprint\n",
    "import pickle\n",
    "import random\n",
    "import torch"
   ]
  },
  {
   "cell_type": "code",
   "execution_count": 3,
   "id": "bd589eff",
   "metadata": {},
   "outputs": [],
   "source": [
    "def set_seed(seed=42):\n",
    "    random.seed(seed)\n",
    "    np.random.seed(seed)\n",
    "    torch.manual_seed(seed)\n",
    "    torch.cuda.manual_seed_all(seed)\n",
    "    torch.backends.cudnn.deterministic = True\n",
    "    torch.backends.cudnn.benchmark = False\n",
    "    \n",
    "set_seed()"
   ]
  },
  {
   "cell_type": "markdown",
   "id": "4f9fde61",
   "metadata": {},
   "source": [
    "### Reading the entire dataset"
   ]
  },
  {
   "cell_type": "code",
   "execution_count": 42,
   "id": "514d1ad3",
   "metadata": {},
   "outputs": [],
   "source": [
    "read_full_dataset = True"
   ]
  },
  {
   "cell_type": "code",
   "execution_count": 43,
   "id": "3f3191f6",
   "metadata": {},
   "outputs": [],
   "source": [
    "with open('/StudentData/Project/ind_tokenizer.pkl', 'rb') as f:\n",
    "    ind_to_label_mapper = pickle.load(f)\n",
    "label_to_ind_mapper = {f\"__label__{value}\": key for key, value in ind_to_label_mapper.items()}\n",
    "\n",
    "if read_full_dataset:\n",
    "    all_files = glob.glob(\"/StudentData/Project/data_chunk_*.csv\")\n",
    "\n",
    "    li = []\n",
    "\n",
    "\n",
    "    for filename in all_files:\n",
    "        df = pd.read_csv(filename, index_col=None, header=0, usecols=['text','industry', 'lang'])\n",
    "        df['industry'] = df['industry'].apply(lambda x: label_to_ind_mapper[x])\n",
    "        li.append(df)\n",
    "\n",
    "    frame = pd.concat(li, axis=0, ignore_index=True)"
   ]
  },
  {
   "cell_type": "code",
   "execution_count": 44,
   "id": "9e1672b3",
   "metadata": {},
   "outputs": [],
   "source": [
    "full_ds = frame"
   ]
  },
  {
   "cell_type": "code",
   "execution_count": 45,
   "id": "e6d0dd21",
   "metadata": {},
   "outputs": [],
   "source": [
    "frame = frame[frame['lang'] == 'en']"
   ]
  },
  {
   "cell_type": "code",
   "execution_count": 46,
   "id": "d8e569a5",
   "metadata": {},
   "outputs": [
    {
     "data": {
      "text/html": [
       "<div>\n",
       "<style scoped>\n",
       "    .dataframe tbody tr th:only-of-type {\n",
       "        vertical-align: middle;\n",
       "    }\n",
       "\n",
       "    .dataframe tbody tr th {\n",
       "        vertical-align: top;\n",
       "    }\n",
       "\n",
       "    .dataframe thead th {\n",
       "        text-align: right;\n",
       "    }\n",
       "</style>\n",
       "<table border=\"1\" class=\"dataframe\">\n",
       "  <thead>\n",
       "    <tr style=\"text-align: right;\">\n",
       "      <th></th>\n",
       "      <th>industry</th>\n",
       "      <th>text</th>\n",
       "      <th>lang</th>\n",
       "    </tr>\n",
       "  </thead>\n",
       "  <tbody>\n",
       "    <tr>\n",
       "      <th>0</th>\n",
       "      <td>marketing and advertising</td>\n",
       "      <td>1 5 View Your Account Our online Member Accoun...</td>\n",
       "      <td>en</td>\n",
       "    </tr>\n",
       "    <tr>\n",
       "      <th>1</th>\n",
       "      <td>environmental services</td>\n",
       "      <td>In that time, our company has built our reput...</td>\n",
       "      <td>en</td>\n",
       "    </tr>\n",
       "    <tr>\n",
       "      <th>2</th>\n",
       "      <td>management consulting</td>\n",
       "      <td>Home About Services Clients Mentoring Testimo...</td>\n",
       "      <td>en</td>\n",
       "    </tr>\n",
       "    <tr>\n",
       "      <th>3</th>\n",
       "      <td>civil engineering</td>\n",
       "      <td>Banks Passive Park Clients Contact (901) 384-...</td>\n",
       "      <td>en</td>\n",
       "    </tr>\n",
       "    <tr>\n",
       "      <th>4</th>\n",
       "      <td>accounting</td>\n",
       "      <td>and for the future you want A full range of ac...</td>\n",
       "      <td>en</td>\n",
       "    </tr>\n",
       "    <tr>\n",
       "      <th>...</th>\n",
       "      <td>...</td>\n",
       "      <td>...</td>\n",
       "      <td>...</td>\n",
       "    </tr>\n",
       "    <tr>\n",
       "      <th>1700019</th>\n",
       "      <td>apparel &amp; fashion</td>\n",
       "      <td>0 Center Concept Eclipse Focus Image Kross Rog...</td>\n",
       "      <td>en</td>\n",
       "    </tr>\n",
       "    <tr>\n",
       "      <th>1700020</th>\n",
       "      <td>entertainment</td>\n",
       "      <td>Staffing Undercover Productions Las Vegas Unde...</td>\n",
       "      <td>en</td>\n",
       "    </tr>\n",
       "    <tr>\n",
       "      <th>1700021</th>\n",
       "      <td>hospital &amp; health care</td>\n",
       "      <td>Posted by OBS on Jul 5, 2013 The staff at Opt...</td>\n",
       "      <td>en</td>\n",
       "    </tr>\n",
       "    <tr>\n",
       "      <th>1700022</th>\n",
       "      <td>music</td>\n",
       "      <td>QR check-ins upon entry are mandatory.2. Mask...</td>\n",
       "      <td>en</td>\n",
       "    </tr>\n",
       "    <tr>\n",
       "      <th>1700023</th>\n",
       "      <td>music</td>\n",
       "      <td>QR check-ins upon entry are mandatory.2. Mask...</td>\n",
       "      <td>en</td>\n",
       "    </tr>\n",
       "  </tbody>\n",
       "</table>\n",
       "<p>1675810 rows × 3 columns</p>\n",
       "</div>"
      ],
      "text/plain": [
       "                          industry  \\\n",
       "0        marketing and advertising   \n",
       "1           environmental services   \n",
       "2            management consulting   \n",
       "3                civil engineering   \n",
       "4                       accounting   \n",
       "...                            ...   \n",
       "1700019          apparel & fashion   \n",
       "1700020              entertainment   \n",
       "1700021     hospital & health care   \n",
       "1700022                      music   \n",
       "1700023                      music   \n",
       "\n",
       "                                                      text lang  \n",
       "0        1 5 View Your Account Our online Member Accoun...   en  \n",
       "1         In that time, our company has built our reput...   en  \n",
       "2         Home About Services Clients Mentoring Testimo...   en  \n",
       "3         Banks Passive Park Clients Contact (901) 384-...   en  \n",
       "4        and for the future you want A full range of ac...   en  \n",
       "...                                                    ...  ...  \n",
       "1700019  0 Center Concept Eclipse Focus Image Kross Rog...   en  \n",
       "1700020  Staffing Undercover Productions Las Vegas Unde...   en  \n",
       "1700021   Posted by OBS on Jul 5, 2013 The staff at Opt...   en  \n",
       "1700022   QR check-ins upon entry are mandatory.2. Mask...   en  \n",
       "1700023   QR check-ins upon entry are mandatory.2. Mask...   en  \n",
       "\n",
       "[1675810 rows x 3 columns]"
      ]
     },
     "execution_count": 46,
     "metadata": {},
     "output_type": "execute_result"
    }
   ],
   "source": [
    "frame"
   ]
  },
  {
   "cell_type": "markdown",
   "id": "e7a65099",
   "metadata": {},
   "source": [
    "### Keep only the 5 most and least frequent industries (with more than 1000 records)"
   ]
  },
  {
   "cell_type": "code",
   "execution_count": 49,
   "id": "efb13ae1",
   "metadata": {},
   "outputs": [],
   "source": [
    "frame['id'] = frame.index + 1\n",
    "n_industries = 5\n",
    "lower_limit = 1000\n",
    "grouped = frame.groupby('industry').count()[['id']].rename({'id': 'count'}, axis='columns').sort_values('count')\n",
    "grouped = grouped[grouped['count'] > lower_limit]\n",
    "\n",
    "grouped_edges = pd.concat([grouped.head(n_industries), grouped.tail(n_industries)])\n",
    "\n",
    "to_keep_indstries = grouped_edges.index\n",
    "frame = frame[frame['industry'].isin(to_keep_indstries)]"
   ]
  },
  {
   "cell_type": "code",
   "execution_count": 51,
   "id": "9fc3bf53",
   "metadata": {},
   "outputs": [
    {
     "data": {
      "image/png": "[encoded data removed]",
      "text/plain": [
       "<Figure size 1440x1080 with 1 Axes>"
      ]
     },
     "metadata": {
      "needs_background": "light"
     },
     "output_type": "display_data"
    }
   ],
   "source": [
    "ax = grouped_edges['count'].plot(kind='barh', logx=True, color =['r']*n_industries+['b']*n_industries, figsize=(20, 15), fontsize=13)\n",
    "colors = {'5 Most Common Industries':'blue', '5 Least Common Industries':'red'}         \n",
    "labels = list(colors.keys())\n",
    "handles = [plt.Rectangle((0,0),1,1, color=colors[label]) for label in labels]\n",
    "ax.legend(handles, labels)\n",
    "ax.set_xlabel('Amount of Companies - log scale', fontsize=15)\n",
    "ax.set_ylabel('Industry', fontsize=15);"
   ]
  },
  {
   "cell_type": "code",
   "execution_count": 52,
   "id": "37f93431",
   "metadata": {},
   "outputs": [
    {
     "name": "stdout",
     "output_type": "stream",
     "text": [
      "ten_ind_mapper:\n",
      "{'__label__0': 'package/freight delivery',\n",
      " '__label__1': 'animation',\n",
      " '__label__2': 'paper & forest products',\n",
      " '__label__3': 'international affairs',\n",
      " '__label__4': 'wireless',\n",
      " '__label__5': 'health, wellness and fitness',\n",
      " '__label__6': 'real estate',\n",
      " '__label__7': 'marketing and advertising',\n",
      " '__label__8': 'information technology and services',\n",
      " '__label__9': 'construction'}\n",
      "\n",
      "ind_ten_mapper:\n",
      "{'animation': '__label__1',\n",
      " 'construction': '__label__9',\n",
      " 'health, wellness and fitness': '__label__5',\n",
      " 'information technology and services': '__label__8',\n",
      " 'international affairs': '__label__3',\n",
      " 'marketing and advertising': '__label__7',\n",
      " 'package/freight delivery': '__label__0',\n",
      " 'paper & forest products': '__label__2',\n",
      " 'real estate': '__label__6',\n",
      " 'wireless': '__label__4'}\n"
     ]
    },
    {
     "data": {
      "text/html": [
       "<div>\n",
       "<style scoped>\n",
       "    .dataframe tbody tr th:only-of-type {\n",
       "        vertical-align: middle;\n",
       "    }\n",
       "\n",
       "    .dataframe tbody tr th {\n",
       "        vertical-align: top;\n",
       "    }\n",
       "\n",
       "    .dataframe thead th {\n",
       "        text-align: right;\n",
       "    }\n",
       "</style>\n",
       "<table border=\"1\" class=\"dataframe\">\n",
       "  <thead>\n",
       "    <tr style=\"text-align: right;\">\n",
       "      <th></th>\n",
       "      <th>industry</th>\n",
       "      <th>text</th>\n",
       "      <th>lang</th>\n",
       "      <th>id</th>\n",
       "    </tr>\n",
       "  </thead>\n",
       "  <tbody>\n",
       "    <tr>\n",
       "      <th>0</th>\n",
       "      <td>__label__7</td>\n",
       "      <td>1 5 View Your Account Our online Member Accoun...</td>\n",
       "      <td>en</td>\n",
       "      <td>1</td>\n",
       "    </tr>\n",
       "    <tr>\n",
       "      <th>1</th>\n",
       "      <td>__label__6</td>\n",
       "      <td>Michigan Big Rapids MI 49307 (231) 250-9802 (...</td>\n",
       "      <td>en</td>\n",
       "      <td>6</td>\n",
       "    </tr>\n",
       "    <tr>\n",
       "      <th>2</th>\n",
       "      <td>__label__7</td>\n",
       "      <td>Is it Time to Shake-up Your Marketing Strateg...</td>\n",
       "      <td>en</td>\n",
       "      <td>20</td>\n",
       "    </tr>\n",
       "    <tr>\n",
       "      <th>3</th>\n",
       "      <td>__label__9</td>\n",
       "      <td>com HOMEWHY CHOOSE DMH INTERIORS LTD?KEY PEOPL...</td>\n",
       "      <td>en</td>\n",
       "      <td>22</td>\n",
       "    </tr>\n",
       "    <tr>\n",
       "      <th>4</th>\n",
       "      <td>__label__6</td>\n",
       "      <td>We ve been in our place about 5 months and en...</td>\n",
       "      <td>en</td>\n",
       "      <td>23</td>\n",
       "    </tr>\n",
       "    <tr>\n",
       "      <th>...</th>\n",
       "      <td>...</td>\n",
       "      <td>...</td>\n",
       "      <td>...</td>\n",
       "      <td>...</td>\n",
       "    </tr>\n",
       "    <tr>\n",
       "      <th>353283</th>\n",
       "      <td>__label__7</td>\n",
       "      <td>Commerce St., Ste 104, Wichita, Kansas 67202F...</td>\n",
       "      <td>en</td>\n",
       "      <td>1699987</td>\n",
       "    </tr>\n",
       "    <tr>\n",
       "      <th>353284</th>\n",
       "      <td>__label__9</td>\n",
       "      <td>Safe Logic currently has a range of experienc...</td>\n",
       "      <td>en</td>\n",
       "      <td>1699994</td>\n",
       "    </tr>\n",
       "    <tr>\n",
       "      <th>353285</th>\n",
       "      <td>__label__5</td>\n",
       "      <td>com Facebook RSS Facebook RSS Reviews Resource...</td>\n",
       "      <td>en</td>\n",
       "      <td>1700006</td>\n",
       "    </tr>\n",
       "    <tr>\n",
       "      <th>353286</th>\n",
       "      <td>__label__5</td>\n",
       "      <td>The days are getting shorter &amp; cooler &amp; over ...</td>\n",
       "      <td>en</td>\n",
       "      <td>1700008</td>\n",
       "    </tr>\n",
       "    <tr>\n",
       "      <th>353287</th>\n",
       "      <td>__label__5</td>\n",
       "      <td>I have worked in health and wellness for over...</td>\n",
       "      <td>en</td>\n",
       "      <td>1700013</td>\n",
       "    </tr>\n",
       "  </tbody>\n",
       "</table>\n",
       "<p>353288 rows × 4 columns</p>\n",
       "</div>"
      ],
      "text/plain": [
       "          industry                                               text lang  \\\n",
       "0       __label__7  1 5 View Your Account Our online Member Accoun...   en   \n",
       "1       __label__6   Michigan Big Rapids MI 49307 (231) 250-9802 (...   en   \n",
       "2       __label__7   Is it Time to Shake-up Your Marketing Strateg...   en   \n",
       "3       __label__9  com HOMEWHY CHOOSE DMH INTERIORS LTD?KEY PEOPL...   en   \n",
       "4       __label__6   We ve been in our place about 5 months and en...   en   \n",
       "...            ...                                                ...  ...   \n",
       "353283  __label__7   Commerce St., Ste 104, Wichita, Kansas 67202F...   en   \n",
       "353284  __label__9   Safe Logic currently has a range of experienc...   en   \n",
       "353285  __label__5  com Facebook RSS Facebook RSS Reviews Resource...   en   \n",
       "353286  __label__5   The days are getting shorter & cooler & over ...   en   \n",
       "353287  __label__5   I have worked in health and wellness for over...   en   \n",
       "\n",
       "             id  \n",
       "0             1  \n",
       "1             6  \n",
       "2            20  \n",
       "3            22  \n",
       "4            23  \n",
       "...         ...  \n",
       "353283  1699987  \n",
       "353284  1699994  \n",
       "353285  1700006  \n",
       "353286  1700008  \n",
       "353287  1700013  \n",
       "\n",
       "[353288 rows x 4 columns]"
      ]
     },
     "execution_count": 52,
     "metadata": {},
     "output_type": "execute_result"
    }
   ],
   "source": [
    "ten_ind_mapper = {f\"__label__{key}\": value for key, value in enumerate(grouped_edges.index)}\n",
    "ind_ten_mapper = {value: key for key, value in ten_ind_mapper.items()}\n",
    "\n",
    "print(\"ten_ind_mapper:\")\n",
    "pprint(ten_ind_mapper)\n",
    "print(\"\\nind_ten_mapper:\")\n",
    "pprint(ind_ten_mapper)\n",
    "\n",
    "frame['industry'] = frame['industry'].apply(lambda x: ind_ten_mapper[x])\n",
    "frame = frame.reset_index(drop=True)\n",
    "frame\n"
   ]
  },
  {
   "cell_type": "code",
   "execution_count": 71,
   "id": "19003fa1",
   "metadata": {},
   "outputs": [
    {
     "data": {
      "text/html": [
       "<div>\n",
       "<style scoped>\n",
       "    .dataframe tbody tr th:only-of-type {\n",
       "        vertical-align: middle;\n",
       "    }\n",
       "\n",
       "    .dataframe tbody tr th {\n",
       "        vertical-align: top;\n",
       "    }\n",
       "\n",
       "    .dataframe thead th {\n",
       "        text-align: right;\n",
       "    }\n",
       "</style>\n",
       "<table border=\"1\" class=\"dataframe\">\n",
       "  <thead>\n",
       "    <tr style=\"text-align: right;\">\n",
       "      <th></th>\n",
       "      <th>label</th>\n",
       "      <th>industry</th>\n",
       "      <th>size</th>\n",
       "    </tr>\n",
       "  </thead>\n",
       "  <tbody>\n",
       "    <tr>\n",
       "      <th>0</th>\n",
       "      <td>__label__0</td>\n",
       "      <td>package/freight delivery</td>\n",
       "      <td>1031</td>\n",
       "    </tr>\n",
       "    <tr>\n",
       "      <th>1</th>\n",
       "      <td>__label__1</td>\n",
       "      <td>animation</td>\n",
       "      <td>1035</td>\n",
       "    </tr>\n",
       "    <tr>\n",
       "      <th>2</th>\n",
       "      <td>__label__2</td>\n",
       "      <td>paper &amp; forest products</td>\n",
       "      <td>1340</td>\n",
       "    </tr>\n",
       "    <tr>\n",
       "      <th>3</th>\n",
       "      <td>__label__3</td>\n",
       "      <td>international affairs</td>\n",
       "      <td>1370</td>\n",
       "    </tr>\n",
       "    <tr>\n",
       "      <th>4</th>\n",
       "      <td>__label__4</td>\n",
       "      <td>wireless</td>\n",
       "      <td>1427</td>\n",
       "    </tr>\n",
       "    <tr>\n",
       "      <th>5</th>\n",
       "      <td>__label__5</td>\n",
       "      <td>health, wellness and fitness</td>\n",
       "      <td>50568</td>\n",
       "    </tr>\n",
       "    <tr>\n",
       "      <th>6</th>\n",
       "      <td>__label__6</td>\n",
       "      <td>real estate</td>\n",
       "      <td>54995</td>\n",
       "    </tr>\n",
       "    <tr>\n",
       "      <th>7</th>\n",
       "      <td>__label__7</td>\n",
       "      <td>marketing and advertising</td>\n",
       "      <td>71096</td>\n",
       "    </tr>\n",
       "    <tr>\n",
       "      <th>8</th>\n",
       "      <td>__label__8</td>\n",
       "      <td>information technology and services</td>\n",
       "      <td>73053</td>\n",
       "    </tr>\n",
       "    <tr>\n",
       "      <th>9</th>\n",
       "      <td>__label__9</td>\n",
       "      <td>construction</td>\n",
       "      <td>97373</td>\n",
       "    </tr>\n",
       "  </tbody>\n",
       "</table>\n",
       "</div>"
      ],
      "text/plain": [
       "        label                             industry   size\n",
       "0  __label__0             package/freight delivery   1031\n",
       "1  __label__1                            animation   1035\n",
       "2  __label__2              paper & forest products   1340\n",
       "3  __label__3                international affairs   1370\n",
       "4  __label__4                             wireless   1427\n",
       "5  __label__5         health, wellness and fitness  50568\n",
       "6  __label__6                          real estate  54995\n",
       "7  __label__7            marketing and advertising  71096\n",
       "8  __label__8  information technology and services  73053\n",
       "9  __label__9                         construction  97373"
      ]
     },
     "execution_count": 71,
     "metadata": {},
     "output_type": "execute_result"
    }
   ],
   "source": [
    "ind_size_dict = {ind_ten_mapper[ind]: size for ind, size in grouped_edges['count'].iteritems()}\n",
    "d = {key: [ten_ind_mapper[key], ind_size_dict[key]] for key in ten_ind_mapper.keys()}\n",
    "df = pd.DataFrame.from_dict(d, orient='index', columns=['industry', 'size']).reset_index().rename({'index': 'label'}, axis=1)\n",
    "df.to_csv('/StudentData/Project/ten_ind_mapper.csv', index=False)\n",
    "df"
   ]
  },
  {
   "cell_type": "markdown",
   "id": "ab95796e",
   "metadata": {},
   "source": [
    "## Rum from here to use saved data"
   ]
  },
  {
   "cell_type": "code",
   "execution_count": 4,
   "id": "457ab832",
   "metadata": {},
   "outputs": [],
   "source": [
    "# with open('/StudentData/Project/10_classes_data.pkl', 'wb') as f:\n",
    "#     pickle.dump(frame, f)\n",
    "    \n",
    "frame = pd.read_pickle('/StudentData/Project/processed_train.pkl')\n",
    "    \n",
    "mapper_df = pd.read_csv('/StudentData/Project/ten_ind_mapper.csv')"
   ]
  },
  {
   "cell_type": "code",
   "execution_count": 5,
   "id": "5eae5c7c",
   "metadata": {
    "collapsed": true
   },
   "outputs": [
    {
     "name": "stdout",
     "output_type": "stream",
     "text": [
      "ten_ind_mapper:\n",
      "{'__label__0': 'package/freight delivery',\n",
      " '__label__1': 'animation',\n",
      " '__label__2': 'paper & forest products',\n",
      " '__label__3': 'international affairs',\n",
      " '__label__4': 'wireless',\n",
      " '__label__5': 'health, wellness and fitness',\n",
      " '__label__6': 'real estate',\n",
      " '__label__7': 'marketing and advertising',\n",
      " '__label__8': 'information technology and services',\n",
      " '__label__9': 'construction'}\n",
      "\n",
      "ind_ten_mapper:\n",
      "{'animation': '__label__1',\n",
      " 'construction': '__label__9',\n",
      " 'health, wellness and fitness': '__label__5',\n",
      " 'information technology and services': '__label__8',\n",
      " 'international affairs': '__label__3',\n",
      " 'marketing and advertising': '__label__7',\n",
      " 'package/freight delivery': '__label__0',\n",
      " 'paper & forest products': '__label__2',\n",
      " 'real estate': '__label__6',\n",
      " 'wireless': '__label__4'}\n",
      "\n",
      "ind_size_dict:\n",
      "{'__label__0': 1031,\n",
      " '__label__1': 1035,\n",
      " '__label__2': 1340,\n",
      " '__label__3': 1370,\n",
      " '__label__4': 1427,\n",
      " '__label__5': 50568,\n",
      " '__label__6': 54995,\n",
      " '__label__7': 71096,\n",
      " '__label__8': 73053,\n",
      " '__label__9': 97373}\n"
     ]
    }
   ],
   "source": [
    "ten_ind_mapper = mapper_df[['label', 'industry']].set_index('label')['industry'].to_dict()\n",
    "ind_ten_mapper = {value: key for key, value in ten_ind_mapper.items()}\n",
    "ind_size_dict = mapper_df[['label', 'size']].set_index('label')['size'].to_dict()\n",
    "\n",
    "\n",
    "print(\"ten_ind_mapper:\")\n",
    "pprint(ten_ind_mapper)\n",
    "print(\"\\nind_ten_mapper:\")\n",
    "pprint(ind_ten_mapper)\n",
    "print(\"\\nind_size_dict:\")\n",
    "pprint(ind_size_dict)"
   ]
  },
  {
   "cell_type": "code",
   "execution_count": 11,
   "id": "0b6ae898",
   "metadata": {},
   "outputs": [],
   "source": [
    "test_ds = pd.read_pickle('/StudentData/Project/processed_test.pkl')"
   ]
  },
  {
   "cell_type": "markdown",
   "id": "40b08790",
   "metadata": {},
   "source": [
    "**Keeping test aside to evaluate all models**"
   ]
  },
  {
   "cell_type": "code",
   "execution_count": 12,
   "id": "31ae76a2",
   "metadata": {},
   "outputs": [],
   "source": [
    "# X_train, X_test, y_train, y_test = train_test_split(frame[['text']], frame[['industry']], test_size=0.15, random_state=42)"
   ]
  },
  {
   "cell_type": "code",
   "execution_count": 16,
   "id": "5b828a82",
   "metadata": {},
   "outputs": [],
   "source": [
    "# test_ds = pd.concat([X_test, y_test], axis=1)\n",
    "# fasttext_test_file_path='/StudentData/Project/processed_test.txt'\n",
    "# test_ds.to_csv(fasttext_test_file_path,\n",
    "#                 index=False,\n",
    "#                 sep=' ',\n",
    "#                 header=None,\n",
    "#                 quoting=csv.QUOTE_NONE,\n",
    "#                 quotechar=\"\",\n",
    "#                 escapechar=\" \")"
   ]
  },
  {
   "cell_type": "code",
   "execution_count": 17,
   "id": "a005ffe5",
   "metadata": {},
   "outputs": [],
   "source": [
    "# test_ds.to_pickle('/StudentData/Project/processed_test.pkl')"
   ]
  },
  {
   "cell_type": "code",
   "execution_count": 18,
   "id": "f94ea524",
   "metadata": {},
   "outputs": [],
   "source": [
    "# frame = pd.concat([X_train, y_train], axis=1)"
   ]
  },
  {
   "cell_type": "code",
   "execution_count": 19,
   "id": "804da2c6",
   "metadata": {},
   "outputs": [],
   "source": [
    "# frame.to_pickle('/StudentData/Project/processed_train.pkl')"
   ]
  },
  {
   "cell_type": "markdown",
   "id": "3f860020",
   "metadata": {},
   "source": [
    "## Evaluating fasttext model using the regular dataset"
   ]
  },
  {
   "cell_type": "code",
   "execution_count": 12,
   "id": "78e7db49",
   "metadata": {},
   "outputs": [],
   "source": [
    "def train_model(train_df, fasttext_train_file_path, save_model_path=None):\n",
    "    print(\"started writing train file\")\n",
    "    train_df.to_csv(fasttext_train_file_path,\n",
    "                    index=False,\n",
    "                    sep=' ',\n",
    "                    header=None,\n",
    "                    quoting=csv.QUOTE_NONE,\n",
    "                    quotechar=\"\",\n",
    "                    escapechar=\" \")\n",
    "\n",
    "    model_params = {'dim': 90, 'epoch': 14, 'lr': 0.05, 'lrUpdateRate': 100, 'maxn': 0, 'minCount': 1, 'minn': 0,\n",
    "                    'neg': 5, 't': 0.0001, 'thread': 12, 'verbose': 2, 'ws': 5}\n",
    "    model = Model(model_params)\n",
    "    print('started training')\n",
    "    model.train(fasttext_train_file_path, save_model_path=save_model_path)\n",
    "    print('finished training')\n",
    "\n",
    "    return model\n",
    "\n",
    "\n",
    "def evaluate_model(model, test_df, ind_size_dict, method=None):\n",
    "    y_pred = model.predict(texts=test_df['text'])\n",
    "    f1_dict = {}\n",
    "    f1_dict['micro'] = model.calc_f1(test_ds['industry'], y_pred, 'micro')\n",
    "    f1_dict['macro'] = model.calc_f1(test_ds['industry'], y_pred, 'macro')\n",
    "    f1_dict['weighted'] = model.calc_f1(test_ds['industry'], y_pred, 'weighted')\n",
    "    \n",
    "    for avg, f1 in f1_dict.items():\n",
    "        print(f\"f1_{avg}: \", round(f1, 3))\n",
    "\n",
    "    sensitivities = {}\n",
    "    sizes = []\n",
    "    for industry in sorted(ind_size_dict.keys()):\n",
    "        sensitivity_per_ind = model.sensitivity_per_ind(industry, test_ds['industry'], y_pred)\n",
    "        print(\"Sensetivity for\", industry, ':', round(sensitivity_per_ind, 3), ' \\tThe size is:',\n",
    "              ind_size_dict[industry])\n",
    "        sensitivities[industry] = sensitivity_per_ind\n",
    "        sizes.append(ind_size_dict[industry])\n",
    "\n",
    "    sizes = np.array(list(ind_size_dict.values()))\n",
    "    \n",
    "    fig, ax = plt.subplots(figsize=(7.5, 5))\n",
    "    ax.scatter(np.log(np.array(sizes)), sensitivities.values())\n",
    "    ax.set_ylim((-0.1, 1.1))\n",
    "    ax.set_xlabel('Amount of Records in Industry - log scale')\n",
    "    ax.set_ylabel('Sensitivity')\n",
    "    ax.set_title(f'Sensetivity Per Industry - {method}');\n",
    "    return f1_dict, sensitivities"
   ]
  },
  {
   "cell_type": "code",
   "execution_count": 107,
   "id": "a3cf89be",
   "metadata": {},
   "outputs": [
    {
     "name": "stdout",
     "output_type": "stream",
     "text": [
      "f1_micro:  0.858\n",
      "f1_macro:  0.579\n",
      "f1_weighted:  0.854\n",
      "Sensetivity for __label__0 : 0.098  \tThe size is: 1031\n",
      "Sensetivity for __label__1 : 0.154  \tThe size is: 1035\n",
      "Sensetivity for __label__2 : 0.301  \tThe size is: 1340\n",
      "Sensetivity for __label__3 : 0.242  \tThe size is: 1370\n",
      "Sensetivity for __label__4 : 0.194  \tThe size is: 1427\n",
      "Sensetivity for __label__5 : 0.893  \tThe size is: 50568\n",
      "Sensetivity for __label__6 : 0.845  \tThe size is: 54995\n",
      "Sensetivity for __label__7 : 0.852  \tThe size is: 71096\n",
      "Sensetivity for __label__8 : 0.832  \tThe size is: 73053\n",
      "Sensetivity for __label__9 : 0.913  \tThe size is: 97373\n"
     ]
    },
    {
     "data": {
      "image/png": "[encoded data removed]",
      "text/plain": [
       "<Figure size 540x360 with 1 Axes>"
      ]
     },
     "metadata": {
      "needs_background": "light"
     },
     "output_type": "display_data"
    }
   ],
   "source": [
    "set_seed()\n",
    "\n",
    "fasttext_train_file_path='/StudentData/Project/Regular/regular_processed_train.txt'\n",
    "save_model_path = '/StudentData/Project/Regular/regular_model.pth'\n",
    "\n",
    "model_reg = train_model(frame, fasttext_train_file_path, save_model_path=None)\n",
    "\n",
    "f1_reg, sensitivities_reg = evaluate_model(model_reg, test_ds, ind_size_dict, 'Regular')"
   ]
  },
  {
   "cell_type": "markdown",
   "id": "a20b52e4",
   "metadata": {},
   "source": [
    "## Undersampling"
   ]
  },
  {
   "cell_type": "code",
   "execution_count": 11,
   "id": "636cd939",
   "metadata": {},
   "outputs": [
    {
     "data": {
      "text/plain": [
       "1031"
      ]
     },
     "execution_count": 11,
     "metadata": {},
     "output_type": "execute_result"
    }
   ],
   "source": [
    "num_samples_undersample = min(ind_size_dict.values())\n",
    "num_samples_undersample"
   ]
  },
  {
   "cell_type": "code",
   "execution_count": 12,
   "id": "1d9b2921",
   "metadata": {},
   "outputs": [],
   "source": [
    "def undersample(df: pd.DataFrame, threshold: int, seed: int):\n",
    "    final_dfs_list = []\n",
    "    for industry in df.industry.unique():\n",
    "        temp_df = df[df['industry'] == industry]\n",
    "        if len(temp_df) > threshold:\n",
    "            temp_df = temp_df.sample(threshold, random_state=seed)\n",
    "        final_dfs_list.append(temp_df)\n",
    "    final_df = pd.concat(final_dfs_list)\n",
    "    return final_df"
   ]
  },
  {
   "cell_type": "code",
   "execution_count": 13,
   "id": "7721be00",
   "metadata": {},
   "outputs": [],
   "source": [
    "undersample_df = undersample(frame, num_samples_undersample, 42)"
   ]
  },
  {
   "cell_type": "code",
   "execution_count": 108,
   "id": "cdfbd76a",
   "metadata": {
    "scrolled": false
   },
   "outputs": [
    {
     "name": "stdout",
     "output_type": "stream",
     "text": [
      "f1_micro:  0.221\n",
      "f1_macro:  0.123\n",
      "f1_weighted:  0.239\n",
      "Sensetivity for __label__0 : 0.0  \tThe size is: 1031\n",
      "Sensetivity for __label__1 : 0.207  \tThe size is: 1035\n",
      "Sensetivity for __label__2 : 0.122  \tThe size is: 1340\n",
      "Sensetivity for __label__3 : 0.89  \tThe size is: 1370\n",
      "Sensetivity for __label__4 : 0.0  \tThe size is: 1427\n",
      "Sensetivity for __label__5 : 0.103  \tThe size is: 50568\n",
      "Sensetivity for __label__6 : 0.013  \tThe size is: 54995\n",
      "Sensetivity for __label__7 : 0.6  \tThe size is: 71096\n",
      "Sensetivity for __label__8 : 0.166  \tThe size is: 73053\n",
      "Sensetivity for __label__9 : 0.16  \tThe size is: 97373\n"
     ]
    },
    {
     "data": {
      "image/png": "[encoded data removed]",
      "text/plain": [
       "<Figure size 540x360 with 1 Axes>"
      ]
     },
     "metadata": {
      "needs_background": "light"
     },
     "output_type": "display_data"
    }
   ],
   "source": [
    "set_seed()\n",
    "fasttext_train_file_path='/StudentData/Project/Undersampled/undersample_processed_train.txt'\n",
    "save_model_path = '/StudentData/Project/Undersampled/undersample_model.pth'\n",
    "\n",
    "model_undersample = train_model(undersample_df, fasttext_train_file_path, save_model_path=None)\n",
    "\n",
    "f1_undersample, sensitivities_undersample = evaluate_model(model_undersample, test_ds, ind_size_dict, 'Undersample')"
   ]
  },
  {
   "cell_type": "markdown",
   "id": "71c14077",
   "metadata": {},
   "source": [
    "## Oversampling"
   ]
  },
  {
   "cell_type": "code",
   "execution_count": 15,
   "id": "6e8601fd",
   "metadata": {},
   "outputs": [
    {
     "data": {
      "text/plain": [
       "97373"
      ]
     },
     "execution_count": 15,
     "metadata": {},
     "output_type": "execute_result"
    }
   ],
   "source": [
    "num_samples_oversample = max(ind_size_dict.values())\n",
    "num_samples_oversample"
   ]
  },
  {
   "cell_type": "code",
   "execution_count": 16,
   "id": "91a596c9",
   "metadata": {},
   "outputs": [],
   "source": [
    "def oversample(df: pd.DataFrame, threshold: int, seed: int):\n",
    "    final_dfs_list = []\n",
    "    for industry in df.industry.unique():\n",
    "        temp_df = df[df['industry'] == industry]\n",
    "        if len(temp_df) < threshold:\n",
    "            temp_df = temp_df.sample(threshold, random_state=seed, replace=True)\n",
    "        final_dfs_list.append(temp_df)\n",
    "    final_df = pd.concat(final_dfs_list)\n",
    "    return final_df"
   ]
  },
  {
   "cell_type": "code",
   "execution_count": 17,
   "id": "9c440a31",
   "metadata": {},
   "outputs": [],
   "source": [
    "oversample_df = oversample(frame, num_samples_oversample, 42)"
   ]
  },
  {
   "cell_type": "code",
   "execution_count": 109,
   "id": "e7fc92dd",
   "metadata": {},
   "outputs": [
    {
     "name": "stdout",
     "output_type": "stream",
     "text": [
      "f1_micro:  0.845\n",
      "f1_macro:  0.644\n",
      "f1_weighted:  0.847\n",
      "Sensetivity for __label__0 : 0.613  \tThe size is: 1031\n",
      "Sensetivity for __label__1 : 0.456  \tThe size is: 1035\n",
      "Sensetivity for __label__2 : 0.622  \tThe size is: 1340\n",
      "Sensetivity for __label__3 : 0.564  \tThe size is: 1370\n",
      "Sensetivity for __label__4 : 0.495  \tThe size is: 1427\n",
      "Sensetivity for __label__5 : 0.889  \tThe size is: 50568\n",
      "Sensetivity for __label__6 : 0.838  \tThe size is: 54995\n",
      "Sensetivity for __label__7 : 0.845  \tThe size is: 71096\n",
      "Sensetivity for __label__8 : 0.798  \tThe size is: 73053\n",
      "Sensetivity for __label__9 : 0.881  \tThe size is: 97373\n"
     ]
    },
    {
     "data": {
      "image/png": "[encoded data removed]",
      "text/plain": [
       "<Figure size 540x360 with 1 Axes>"
      ]
     },
     "metadata": {
      "needs_background": "light"
     },
     "output_type": "display_data"
    }
   ],
   "source": [
    "set_seed()\n",
    "fasttext_train_file_path='/StudentData/Project/Oversampled/oversample_processed_train.txt'\n",
    "save_model_path = '/StudentData/Project/Oversampled/oversample_model.pth'\n",
    "\n",
    "# model_oversample = train_model(oversample_df, fasttext_train_file_path, save_model_path=None)\n",
    "\n",
    "f1_oversample, sensitivities_oversample = evaluate_model(model_oversample, test_ds, ind_size_dict, 'Oversample')"
   ]
  },
  {
   "cell_type": "markdown",
   "id": "7a1ea142",
   "metadata": {},
   "source": [
    "# Working with generated data"
   ]
  },
  {
   "cell_type": "code",
   "execution_count": 18,
   "id": "40e4b79a",
   "metadata": {},
   "outputs": [],
   "source": [
    "with open('/StudentData/Project/Generative/GeneratedOutputs/generated_list_0.pkl', 'rb') as f:\n",
    "    generated_list_0 = pickle.load(f)"
   ]
  },
  {
   "cell_type": "code",
   "execution_count": 21,
   "id": "72c5b348",
   "metadata": {},
   "outputs": [],
   "source": [
    "def concat_generated_date(df: pd.DataFrame, generated_dict):\n",
    "    final_dfs_list = [df.copy()]\n",
    "    for ind_num, generated_list in generated_dict.items():\n",
    "        temp_generated_df = pd.DataFrame({'text': generated_list, 'industry': [f'__label__{ind_num}']*len(generated_list)})\n",
    "        final_dfs_list.append(temp_generated_df)\n",
    "    final_df = pd.concat(final_dfs_list)\n",
    "    return final_df"
   ]
  },
  {
   "cell_type": "code",
   "execution_count": 24,
   "id": "5bfbd861",
   "metadata": {},
   "outputs": [],
   "source": [
    "generated_dict = {'0': generated_list_0}\n",
    "generated_df = concat_generated_date(frame, generated_dict)"
   ]
  },
  {
   "cell_type": "code",
   "execution_count": 25,
   "id": "8de43b79",
   "metadata": {},
   "outputs": [
    {
     "data": {
      "text/html": [
       "<div>\n",
       "<style scoped>\n",
       "    .dataframe tbody tr th:only-of-type {\n",
       "        vertical-align: middle;\n",
       "    }\n",
       "\n",
       "    .dataframe tbody tr th {\n",
       "        vertical-align: top;\n",
       "    }\n",
       "\n",
       "    .dataframe thead th {\n",
       "        text-align: right;\n",
       "    }\n",
       "</style>\n",
       "<table border=\"1\" class=\"dataframe\">\n",
       "  <thead>\n",
       "    <tr style=\"text-align: right;\">\n",
       "      <th></th>\n",
       "      <th>text</th>\n",
       "      <th>industry</th>\n",
       "    </tr>\n",
       "  </thead>\n",
       "  <tbody>\n",
       "    <tr>\n",
       "      <th>123349</th>\n",
       "      <td>office Live YES Program Resources Blog IT Lunc...</td>\n",
       "      <td>__label__8</td>\n",
       "    </tr>\n",
       "    <tr>\n",
       "      <th>294352</th>\n",
       "      <td>Arrive High-Five How Do You Create an Exceptio...</td>\n",
       "      <td>__label__6</td>\n",
       "    </tr>\n",
       "    <tr>\n",
       "      <th>79074</th>\n",
       "      <td>We get I Tso you don't have to. Homeduckonwat...</td>\n",
       "      <td>__label__8</td>\n",
       "    </tr>\n",
       "    <tr>\n",
       "      <th>198827</th>\n",
       "      <td>00 Next-Level Digital Marketing Buzz. Engageme...</td>\n",
       "      <td>__label__7</td>\n",
       "    </tr>\n",
       "    <tr>\n",
       "      <th>40337</th>\n",
       "      <td>Search By Nearby Me SEARCH: All Cities Neighb...</td>\n",
       "      <td>__label__6</td>\n",
       "    </tr>\n",
       "    <tr>\n",
       "      <th>...</th>\n",
       "      <td>...</td>\n",
       "      <td>...</td>\n",
       "    </tr>\n",
       "    <tr>\n",
       "      <th>37879</th>\n",
       "      <td>freight delivery is a business that focuses on...</td>\n",
       "      <td>__label__0</td>\n",
       "    </tr>\n",
       "    <tr>\n",
       "      <th>37880</th>\n",
       "      <td>package freight delivery. storage services - s...</td>\n",
       "      <td>__label__0</td>\n",
       "    </tr>\n",
       "    <tr>\n",
       "      <th>37881</th>\n",
       "      <td>agri trail coop main st hope k grain. elma, ka...</td>\n",
       "      <td>__label__0</td>\n",
       "    </tr>\n",
       "    <tr>\n",
       "      <th>37882</th>\n",
       "      <td>international mover specializes in the deliver...</td>\n",
       "      <td>__label__0</td>\n",
       "    </tr>\n",
       "    <tr>\n",
       "      <th>37883</th>\n",
       "      <td>doma export neither represents customs nor inf...</td>\n",
       "      <td>__label__0</td>\n",
       "    </tr>\n",
       "  </tbody>\n",
       "</table>\n",
       "<p>338178 rows × 2 columns</p>\n",
       "</div>"
      ],
      "text/plain": [
       "                                                     text    industry\n",
       "123349  office Live YES Program Resources Blog IT Lunc...  __label__8\n",
       "294352  Arrive High-Five How Do You Create an Exceptio...  __label__6\n",
       "79074    We get I Tso you don't have to. Homeduckonwat...  __label__8\n",
       "198827  00 Next-Level Digital Marketing Buzz. Engageme...  __label__7\n",
       "40337    Search By Nearby Me SEARCH: All Cities Neighb...  __label__6\n",
       "...                                                   ...         ...\n",
       "37879   freight delivery is a business that focuses on...  __label__0\n",
       "37880   package freight delivery. storage services - s...  __label__0\n",
       "37881   agri trail coop main st hope k grain. elma, ka...  __label__0\n",
       "37882   international mover specializes in the deliver...  __label__0\n",
       "37883   doma export neither represents customs nor inf...  __label__0\n",
       "\n",
       "[338178 rows x 2 columns]"
      ]
     },
     "execution_count": 25,
     "metadata": {},
     "output_type": "execute_result"
    }
   ],
   "source": [
    "generated_df"
   ]
  },
  {
   "cell_type": "code",
   "execution_count": 28,
   "id": "2c0ae80b",
   "metadata": {
    "scrolled": false
   },
   "outputs": [
    {
     "name": "stdout",
     "output_type": "stream",
     "text": [
      "f1_micro:  0.858\n",
      "f1_macro:  0.612\n",
      "f1_weighted:  0.855\n",
      "Sensetivity for __label__0 : 0.472  \tThe size is: 1031\n",
      "Sensetivity for __label__1 : 0.172  \tThe size is: 1035\n",
      "Sensetivity for __label__2 : 0.281  \tThe size is: 1340\n",
      "Sensetivity for __label__3 : 0.207  \tThe size is: 1370\n",
      "Sensetivity for __label__4 : 0.175  \tThe size is: 1427\n",
      "Sensetivity for __label__5 : 0.892  \tThe size is: 50568\n",
      "Sensetivity for __label__6 : 0.846  \tThe size is: 54995\n",
      "Sensetivity for __label__7 : 0.848  \tThe size is: 71096\n",
      "Sensetivity for __label__8 : 0.833  \tThe size is: 73053\n",
      "Sensetivity for __label__9 : 0.913  \tThe size is: 97373\n"
     ]
    },
    {
     "data": {
      "image/png": "[encoded data removed]",
      "text/plain": [
       "<Figure size 540x360 with 1 Axes>"
      ]
     },
     "metadata": {
      "needs_background": "light"
     },
     "output_type": "display_data"
    }
   ],
   "source": [
    "set_seed()\n",
    "\n",
    "fasttext_train_file_path='/StudentData/Project/Generative/generated_processed_train.txt'\n",
    "save_model_path = '/StudentData/Project/Generative/generated_model.pth'\n",
    "\n",
    "model_generated = train_model(generated_df, fasttext_train_file_path, save_model_path=None)\n",
    "\n",
    "f1_generated, sensitivities_generated = evaluate_model(model_generated, test_ds, ind_size_dict, 'Generative')"
   ]
  },
  {
   "cell_type": "markdown",
   "id": "9cbabaa7",
   "metadata": {},
   "source": [
    "## Comparing results from all models"
   ]
  },
  {
   "cell_type": "code",
   "execution_count": 158,
   "id": "a87d82b1",
   "metadata": {},
   "outputs": [
    {
     "data": {
      "image/png": "[encoded data removed]",
      "text/plain": [
       "<Figure size 1080x720 with 1 Axes>"
      ]
     },
     "metadata": {
      "needs_background": "light"
     },
     "output_type": "display_data"
    }
   ],
   "source": [
    "x = np.arange(10)\n",
    "y1 = sensitivities_undersample.values()\n",
    "y2 = sensitivities_oversample.values()\n",
    "y3 = sensitivities_reg.values()\n",
    "width = 0.2\n",
    "\n",
    "fig, ax = plt.subplots(figsize=(15,10))\n",
    "# plot data in grouped manner of bar type\n",
    "ax.bar(x-0.24, y1, width, label='Undersample')\n",
    "ax.bar(x, y2, width, label='Oversample')\n",
    "ax.bar(x+0.24, y3, width, label='Regular')\n",
    "ax.set_xticks(x)\n",
    "ax.set_xlabel(\"Industries\", fontsize=12)\n",
    "ax.set_ylabel(\"Sensitivities\", fontsize=12)\n",
    "ax.set_title('Sensitivty per Industry and Method \\n Least Frequent Industries                                             Most Frequent Industries', fontsize=16)\n",
    "\n",
    "ax.legend(fontsize=12)\n",
    "ax.axvline(x=4.5, color='black')\n",
    "plt.show()"
   ]
  },
  {
   "cell_type": "code",
   "execution_count": 193,
   "id": "413b2354",
   "metadata": {},
   "outputs": [],
   "source": [
    "f1_df = pd.DataFrame([f1_reg, f1_undersample, f1_oversample])\n",
    "f1_df['method'] = pd.Series(['Regular', 'Undersample', 'Oversample'])\n",
    "f1_df = f1_df.set_index('method')\n"
   ]
  },
  {
   "cell_type": "code",
   "execution_count": 191,
   "id": "e2694a42",
   "metadata": {},
   "outputs": [
    {
     "data": {
      "text/html": [
       "<div>\n",
       "<style scoped>\n",
       "    .dataframe tbody tr th:only-of-type {\n",
       "        vertical-align: middle;\n",
       "    }\n",
       "\n",
       "    .dataframe tbody tr th {\n",
       "        vertical-align: top;\n",
       "    }\n",
       "\n",
       "    .dataframe thead th {\n",
       "        text-align: right;\n",
       "    }\n",
       "</style>\n",
       "<table border=\"1\" class=\"dataframe\">\n",
       "  <thead>\n",
       "    <tr style=\"text-align: right;\">\n",
       "      <th></th>\n",
       "      <th>micro</th>\n",
       "      <th>macro</th>\n",
       "      <th>weighted</th>\n",
       "    </tr>\n",
       "    <tr>\n",
       "      <th>method</th>\n",
       "      <th></th>\n",
       "      <th></th>\n",
       "      <th></th>\n",
       "    </tr>\n",
       "  </thead>\n",
       "  <tbody>\n",
       "    <tr>\n",
       "      <th>Regular</th>\n",
       "      <td>0.857607</td>\n",
       "      <td>0.579228</td>\n",
       "      <td>0.853960</td>\n",
       "    </tr>\n",
       "    <tr>\n",
       "      <th>Undersample</th>\n",
       "      <td>0.220817</td>\n",
       "      <td>0.122867</td>\n",
       "      <td>0.238882</td>\n",
       "    </tr>\n",
       "    <tr>\n",
       "      <th>Oversample</th>\n",
       "      <td>0.844945</td>\n",
       "      <td>0.644225</td>\n",
       "      <td>0.846936</td>\n",
       "    </tr>\n",
       "  </tbody>\n",
       "</table>\n",
       "</div>"
      ],
      "text/plain": [
       "                micro     macro  weighted\n",
       "method                                   \n",
       "Regular      0.857607  0.579228  0.853960\n",
       "Undersample  0.220817  0.122867  0.238882\n",
       "Oversample   0.844945  0.644225  0.846936"
      ]
     },
     "execution_count": 191,
     "metadata": {},
     "output_type": "execute_result"
    }
   ],
   "source": [
    "f1_df"
   ]
  },
  {
   "cell_type": "code",
   "execution_count": 192,
   "id": "910255d4",
   "metadata": {},
   "outputs": [
    {
     "data": {
      "text/plain": [
       "Text(0.5, 1.0, 'Micro, Macro and Weighted F1 Scores per Method')"
      ]
     },
     "execution_count": 192,
     "metadata": {},
     "output_type": "execute_result"
    },
    {
     "data": {
      "image/png": "[encoded data removed]",
      "text/plain": [
       "<Figure size 720x576 with 1 Axes>"
      ]
     },
     "metadata": {
      "needs_background": "light"
     },
     "output_type": "display_data"
    }
   ],
   "source": [
    "ax = f1_df.plot.bar(rot=0, figsize=(10, 8), fontsize=12)\n",
    "ax.set_xlabel('Method', fontsize=12)\n",
    "ax.set_ylabel('F1 scores', fontsize=12)\n",
    "ax.set_title('Micro, Macro and Weighted F1 Scores per Method');"
   ]
  }
 ],
 "metadata": {
  "kernelspec": {
   "display_name": "Python 3",
   "language": "python",
   "name": "python3"
  },
  "language_info": {
   "codemirror_mode": {
    "name": "ipython",
    "version": 3
   },
   "file_extension": ".py",
   "mimetype": "text/x-python",
   "name": "python",
   "nbconvert_exporter": "python",
   "pygments_lexer": "ipython3",
   "version": "3.8.12"
  }
 },
 "nbformat": 4,
 "nbformat_minor": 5
}