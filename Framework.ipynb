{
 "cells": [
  {
   "cell_type": "code",
   "execution_count": 1,
   "id": "eba086de",
   "metadata": {},
   "outputs": [],
   "source": [
    "%load_ext autoreload\n",
    "%autoreload 2"
   ]
  },
  {
   "cell_type": "code",
   "execution_count": 39,
   "id": "e7c884c0",
   "metadata": {},
   "outputs": [],
   "source": [
    "import pandas as pd\n",
    "import glob\n",
    "import fasttext\n",
    "import pickle\n",
    "import numpy as np\n",
    "import matplotlib.pyplot as plt\n",
    "from preprocess import DatasetPreprocess\n",
    "from CustomModel import Model\n",
    "from sklearn.model_selection import train_test_split\n",
    "import csv\n",
    "from pprint import pprint\n",
    "import pickle\n",
    "import random\n",
    "import torch\n",
    "import warnings\n",
    "warnings.filterwarnings(\"ignore\")"
   ]
  },
  {
   "cell_type": "code",
   "execution_count": 3,
   "id": "bd589eff",
   "metadata": {},
   "outputs": [],
   "source": [
    "def set_seed(seed=42):\n",
    "    random.seed(seed)\n",
    "    np.random.seed(seed)\n",
    "    torch.manual_seed(seed)\n",
    "    torch.cuda.manual_seed_all(seed)\n",
    "    torch.backends.cudnn.deterministic = True\n",
    "    torch.backends.cudnn.benchmark = False\n",
    "    \n",
    "set_seed()"
   ]
  },
  {
   "cell_type": "markdown",
   "id": "4f9fde61",
   "metadata": {},
   "source": [
    "### Reading the entire dataset"
   ]
  },
  {
   "cell_type": "code",
   "execution_count": 3,
   "id": "514d1ad3",
   "metadata": {},
   "outputs": [],
   "source": [
    "read_full_dataset = False"
   ]
  },
  {
   "cell_type": "code",
   "execution_count": 43,
   "id": "3f3191f6",
   "metadata": {},
   "outputs": [],
   "source": [
    "with open('/StudentData/Project/ind_tokenizer.pkl', 'rb') as f:\n",
    "    ind_to_label_mapper = pickle.load(f)\n",
    "label_to_ind_mapper = {f\"__label__{value}\": key for key, value in ind_to_label_mapper.items()}\n",
    "\n",
    "if read_full_dataset:\n",
    "    all_files = glob.glob(\"/StudentData/Project/data_chunk_*.csv\")\n",
    "\n",
    "    li = []\n",
    "\n",
    "\n",
    "    for filename in all_files:\n",
    "        df = pd.read_csv(filename, index_col=None, header=0, usecols=['text','industry', 'lang'])\n",
    "        df['industry'] = df['industry'].apply(lambda x: label_to_ind_mapper[x])\n",
    "        li.append(df)\n",
    "\n",
    "    frame = pd.concat(li, axis=0, ignore_index=True)"
   ]
  },
  {
   "cell_type": "code",
   "execution_count": 44,
   "id": "9e1672b3",
   "metadata": {},
   "outputs": [],
   "source": [
    "full_ds = frame"
   ]
  },
  {
   "cell_type": "code",
   "execution_count": 45,
   "id": "e6d0dd21",
   "metadata": {},
   "outputs": [],
   "source": [
    "frame = frame[frame['lang'] == 'en']"
   ]
  },
  {
   "cell_type": "code",
   "execution_count": 46,
   "id": "d8e569a5",
   "metadata": {},
   "outputs": [
    {
     "data": {
      "text/html": [
       "<div>\n",
       "<style scoped>\n",
       "    .dataframe tbody tr th:only-of-type {\n",
       "        vertical-align: middle;\n",
       "    }\n",
       "\n",
       "    .dataframe tbody tr th {\n",
       "        vertical-align: top;\n",
       "    }\n",
       "\n",
       "    .dataframe thead th {\n",
       "        text-align: right;\n",
       "    }\n",
       "</style>\n",
       "<table border=\"1\" class=\"dataframe\">\n",
       "  <thead>\n",
       "    <tr style=\"text-align: right;\">\n",
       "      <th></th>\n",
       "      <th>industry</th>\n",
       "      <th>text</th>\n",
       "      <th>lang</th>\n",
       "    </tr>\n",
       "  </thead>\n",
       "  <tbody>\n",
       "    <tr>\n",
       "      <th>0</th>\n",
       "      <td>marketing and advertising</td>\n",
       "      <td>1 5 View Your Account Our online Member Accoun...</td>\n",
       "      <td>en</td>\n",
       "    </tr>\n",
       "    <tr>\n",
       "      <th>1</th>\n",
       "      <td>environmental services</td>\n",
       "      <td>In that time, our company has built our reput...</td>\n",
       "      <td>en</td>\n",
       "    </tr>\n",
       "    <tr>\n",
       "      <th>2</th>\n",
       "      <td>management consulting</td>\n",
       "      <td>Home About Services Clients Mentoring Testimo...</td>\n",
       "      <td>en</td>\n",
       "    </tr>\n",
       "    <tr>\n",
       "      <th>3</th>\n",
       "      <td>civil engineering</td>\n",
       "      <td>Banks Passive Park Clients Contact (901) 384-...</td>\n",
       "      <td>en</td>\n",
       "    </tr>\n",
       "    <tr>\n",
       "      <th>4</th>\n",
       "      <td>accounting</td>\n",
       "      <td>and for the future you want A full range of ac...</td>\n",
       "      <td>en</td>\n",
       "    </tr>\n",
       "    <tr>\n",
       "      <th>...</th>\n",
       "      <td>...</td>\n",
       "      <td>...</td>\n",
       "      <td>...</td>\n",
       "    </tr>\n",
       "    <tr>\n",
       "      <th>1700019</th>\n",
       "      <td>apparel &amp; fashion</td>\n",
       "      <td>0 Center Concept Eclipse Focus Image Kross Rog...</td>\n",
       "      <td>en</td>\n",
       "    </tr>\n",
       "    <tr>\n",
       "      <th>1700020</th>\n",
       "      <td>entertainment</td>\n",
       "      <td>Staffing Undercover Productions Las Vegas Unde...</td>\n",
       "      <td>en</td>\n",
       "    </tr>\n",
       "    <tr>\n",
       "      <th>1700021</th>\n",
       "      <td>hospital &amp; health care</td>\n",
       "      <td>Posted by OBS on Jul 5, 2013 The staff at Opt...</td>\n",
       "      <td>en</td>\n",
       "    </tr>\n",
       "    <tr>\n",
       "      <th>1700022</th>\n",
       "      <td>music</td>\n",
       "      <td>QR check-ins upon entry are mandatory.2. Mask...</td>\n",
       "      <td>en</td>\n",
       "    </tr>\n",
       "    <tr>\n",
       "      <th>1700023</th>\n",
       "      <td>music</td>\n",
       "      <td>QR check-ins upon entry are mandatory.2. Mask...</td>\n",
       "      <td>en</td>\n",
       "    </tr>\n",
       "  </tbody>\n",
       "</table>\n",
       "<p>1675810 rows × 3 columns</p>\n",
       "</div>"
      ],
      "text/plain": [
       "                          industry  \\\n",
       "0        marketing and advertising   \n",
       "1           environmental services   \n",
       "2            management consulting   \n",
       "3                civil engineering   \n",
       "4                       accounting   \n",
       "...                            ...   \n",
       "1700019          apparel & fashion   \n",
       "1700020              entertainment   \n",
       "1700021     hospital & health care   \n",
       "1700022                      music   \n",
       "1700023                      music   \n",
       "\n",
       "                                                      text lang  \n",
       "0        1 5 View Your Account Our online Member Accoun...   en  \n",
       "1         In that time, our company has built our reput...   en  \n",
       "2         Home About Services Clients Mentoring Testimo...   en  \n",
       "3         Banks Passive Park Clients Contact (901) 384-...   en  \n",
       "4        and for the future you want A full range of ac...   en  \n",
       "...                                                    ...  ...  \n",
       "1700019  0 Center Concept Eclipse Focus Image Kross Rog...   en  \n",
       "1700020  Staffing Undercover Productions Las Vegas Unde...   en  \n",
       "1700021   Posted by OBS on Jul 5, 2013 The staff at Opt...   en  \n",
       "1700022   QR check-ins upon entry are mandatory.2. Mask...   en  \n",
       "1700023   QR check-ins upon entry are mandatory.2. Mask...   en  \n",
       "\n",
       "[1675810 rows x 3 columns]"
      ]
     },
     "execution_count": 46,
     "metadata": {},
     "output_type": "execute_result"
    }
   ],
   "source": [
    "frame"
   ]
  },
  {
   "cell_type": "markdown",
   "id": "e7a65099",
   "metadata": {},
   "source": [
    "### Keep only the 5 most and least frequent industries (with more than 1000 records)"
   ]
  },
  {
   "cell_type": "code",
   "execution_count": 288,
   "id": "efb13ae1",
   "metadata": {},
   "outputs": [],
   "source": [
    "frame['id'] = frame.index + 1\n",
    "n_industries = 5\n",
    "lower_limit = 1000\n",
    "grouped = frame.groupby('industry').count()[['id']].rename({'id': 'count'}, axis='columns').sort_values('count')\n",
    "grouped = grouped[grouped['count'] > lower_limit]\n",
    "\n",
    "grouped_edges = pd.concat([grouped.head(n_industries), grouped.tail(n_industries)])\n",
    "\n",
    "to_keep_indstries = grouped_edges.index\n",
    "frame = frame[frame['industry'].isin(to_keep_indstries)]"
   ]
  },
  {
   "cell_type": "code",
   "execution_count": 52,
   "id": "37f93431",
   "metadata": {},
   "outputs": [
    {
     "name": "stdout",
     "output_type": "stream",
     "text": [
      "ten_ind_mapper:\n",
      "{'__label__0': 'package/freight delivery',\n",
      " '__label__1': 'animation',\n",
      " '__label__2': 'paper & forest products',\n",
      " '__label__3': 'international affairs',\n",
      " '__label__4': 'wireless',\n",
      " '__label__5': 'health, wellness and fitness',\n",
      " '__label__6': 'real estate',\n",
      " '__label__7': 'marketing and advertising',\n",
      " '__label__8': 'information technology and services',\n",
      " '__label__9': 'construction'}\n",
      "\n",
      "ind_ten_mapper:\n",
      "{'animation': '__label__1',\n",
      " 'construction': '__label__9',\n",
      " 'health, wellness and fitness': '__label__5',\n",
      " 'information technology and services': '__label__8',\n",
      " 'international affairs': '__label__3',\n",
      " 'marketing and advertising': '__label__7',\n",
      " 'package/freight delivery': '__label__0',\n",
      " 'paper & forest products': '__label__2',\n",
      " 'real estate': '__label__6',\n",
      " 'wireless': '__label__4'}\n"
     ]
    },
    {
     "data": {
      "text/html": [
       "<div>\n",
       "<style scoped>\n",
       "    .dataframe tbody tr th:only-of-type {\n",
       "        vertical-align: middle;\n",
       "    }\n",
       "\n",
       "    .dataframe tbody tr th {\n",
       "        vertical-align: top;\n",
       "    }\n",
       "\n",
       "    .dataframe thead th {\n",
       "        text-align: right;\n",
       "    }\n",
       "</style>\n",
       "<table border=\"1\" class=\"dataframe\">\n",
       "  <thead>\n",
       "    <tr style=\"text-align: right;\">\n",
       "      <th></th>\n",
       "      <th>industry</th>\n",
       "      <th>text</th>\n",
       "      <th>lang</th>\n",
       "      <th>id</th>\n",
       "    </tr>\n",
       "  </thead>\n",
       "  <tbody>\n",
       "    <tr>\n",
       "      <th>0</th>\n",
       "      <td>__label__7</td>\n",
       "      <td>1 5 View Your Account Our online Member Accoun...</td>\n",
       "      <td>en</td>\n",
       "      <td>1</td>\n",
       "    </tr>\n",
       "    <tr>\n",
       "      <th>1</th>\n",
       "      <td>__label__6</td>\n",
       "      <td>Michigan Big Rapids MI 49307 (231) 250-9802 (...</td>\n",
       "      <td>en</td>\n",
       "      <td>6</td>\n",
       "    </tr>\n",
       "    <tr>\n",
       "      <th>2</th>\n",
       "      <td>__label__7</td>\n",
       "      <td>Is it Time to Shake-up Your Marketing Strateg...</td>\n",
       "      <td>en</td>\n",
       "      <td>20</td>\n",
       "    </tr>\n",
       "    <tr>\n",
       "      <th>3</th>\n",
       "      <td>__label__9</td>\n",
       "      <td>com HOMEWHY CHOOSE DMH INTERIORS LTD?KEY PEOPL...</td>\n",
       "      <td>en</td>\n",
       "      <td>22</td>\n",
       "    </tr>\n",
       "    <tr>\n",
       "      <th>4</th>\n",
       "      <td>__label__6</td>\n",
       "      <td>We ve been in our place about 5 months and en...</td>\n",
       "      <td>en</td>\n",
       "      <td>23</td>\n",
       "    </tr>\n",
       "    <tr>\n",
       "      <th>...</th>\n",
       "      <td>...</td>\n",
       "      <td>...</td>\n",
       "      <td>...</td>\n",
       "      <td>...</td>\n",
       "    </tr>\n",
       "    <tr>\n",
       "      <th>353283</th>\n",
       "      <td>__label__7</td>\n",
       "      <td>Commerce St., Ste 104, Wichita, Kansas 67202F...</td>\n",
       "      <td>en</td>\n",
       "      <td>1699987</td>\n",
       "    </tr>\n",
       "    <tr>\n",
       "      <th>353284</th>\n",
       "      <td>__label__9</td>\n",
       "      <td>Safe Logic currently has a range of experienc...</td>\n",
       "      <td>en</td>\n",
       "      <td>1699994</td>\n",
       "    </tr>\n",
       "    <tr>\n",
       "      <th>353285</th>\n",
       "      <td>__label__5</td>\n",
       "      <td>com Facebook RSS Facebook RSS Reviews Resource...</td>\n",
       "      <td>en</td>\n",
       "      <td>1700006</td>\n",
       "    </tr>\n",
       "    <tr>\n",
       "      <th>353286</th>\n",
       "      <td>__label__5</td>\n",
       "      <td>The days are getting shorter &amp; cooler &amp; over ...</td>\n",
       "      <td>en</td>\n",
       "      <td>1700008</td>\n",
       "    </tr>\n",
       "    <tr>\n",
       "      <th>353287</th>\n",
       "      <td>__label__5</td>\n",
       "      <td>I have worked in health and wellness for over...</td>\n",
       "      <td>en</td>\n",
       "      <td>1700013</td>\n",
       "    </tr>\n",
       "  </tbody>\n",
       "</table>\n",
       "<p>353288 rows × 4 columns</p>\n",
       "</div>"
      ],
      "text/plain": [
       "          industry                                               text lang  \\\n",
       "0       __label__7  1 5 View Your Account Our online Member Accoun...   en   \n",
       "1       __label__6   Michigan Big Rapids MI 49307 (231) 250-9802 (...   en   \n",
       "2       __label__7   Is it Time to Shake-up Your Marketing Strateg...   en   \n",
       "3       __label__9  com HOMEWHY CHOOSE DMH INTERIORS LTD?KEY PEOPL...   en   \n",
       "4       __label__6   We ve been in our place about 5 months and en...   en   \n",
       "...            ...                                                ...  ...   \n",
       "353283  __label__7   Commerce St., Ste 104, Wichita, Kansas 67202F...   en   \n",
       "353284  __label__9   Safe Logic currently has a range of experienc...   en   \n",
       "353285  __label__5  com Facebook RSS Facebook RSS Reviews Resource...   en   \n",
       "353286  __label__5   The days are getting shorter & cooler & over ...   en   \n",
       "353287  __label__5   I have worked in health and wellness for over...   en   \n",
       "\n",
       "             id  \n",
       "0             1  \n",
       "1             6  \n",
       "2            20  \n",
       "3            22  \n",
       "4            23  \n",
       "...         ...  \n",
       "353283  1699987  \n",
       "353284  1699994  \n",
       "353285  1700006  \n",
       "353286  1700008  \n",
       "353287  1700013  \n",
       "\n",
       "[353288 rows x 4 columns]"
      ]
     },
     "execution_count": 52,
     "metadata": {},
     "output_type": "execute_result"
    }
   ],
   "source": [
    "ten_ind_mapper = {f\"__label__{key}\": value for key, value in enumerate(grouped_edges.index)}\n",
    "ind_ten_mapper = {value: key for key, value in ten_ind_mapper.items()}\n",
    "\n",
    "print(\"ten_ind_mapper:\")\n",
    "pprint(ten_ind_mapper)\n",
    "print(\"\\nind_ten_mapper:\")\n",
    "pprint(ind_ten_mapper)\n",
    "\n",
    "frame['industry'] = frame['industry'].apply(lambda x: ind_ten_mapper[x])\n",
    "frame = frame.reset_index(drop=True)\n",
    "frame\n"
   ]
  },
  {
   "cell_type": "code",
   "execution_count": 71,
   "id": "19003fa1",
   "metadata": {},
   "outputs": [
    {
     "data": {
      "text/html": [
       "<div>\n",
       "<style scoped>\n",
       "    .dataframe tbody tr th:only-of-type {\n",
       "        vertical-align: middle;\n",
       "    }\n",
       "\n",
       "    .dataframe tbody tr th {\n",
       "        vertical-align: top;\n",
       "    }\n",
       "\n",
       "    .dataframe thead th {\n",
       "        text-align: right;\n",
       "    }\n",
       "</style>\n",
       "<table border=\"1\" class=\"dataframe\">\n",
       "  <thead>\n",
       "    <tr style=\"text-align: right;\">\n",
       "      <th></th>\n",
       "      <th>label</th>\n",
       "      <th>industry</th>\n",
       "      <th>size</th>\n",
       "    </tr>\n",
       "  </thead>\n",
       "  <tbody>\n",
       "    <tr>\n",
       "      <th>0</th>\n",
       "      <td>__label__0</td>\n",
       "      <td>package/freight delivery</td>\n",
       "      <td>1031</td>\n",
       "    </tr>\n",
       "    <tr>\n",
       "      <th>1</th>\n",
       "      <td>__label__1</td>\n",
       "      <td>animation</td>\n",
       "      <td>1035</td>\n",
       "    </tr>\n",
       "    <tr>\n",
       "      <th>2</th>\n",
       "      <td>__label__2</td>\n",
       "      <td>paper &amp; forest products</td>\n",
       "      <td>1340</td>\n",
       "    </tr>\n",
       "    <tr>\n",
       "      <th>3</th>\n",
       "      <td>__label__3</td>\n",
       "      <td>international affairs</td>\n",
       "      <td>1370</td>\n",
       "    </tr>\n",
       "    <tr>\n",
       "      <th>4</th>\n",
       "      <td>__label__4</td>\n",
       "      <td>wireless</td>\n",
       "      <td>1427</td>\n",
       "    </tr>\n",
       "    <tr>\n",
       "      <th>5</th>\n",
       "      <td>__label__5</td>\n",
       "      <td>health, wellness and fitness</td>\n",
       "      <td>50568</td>\n",
       "    </tr>\n",
       "    <tr>\n",
       "      <th>6</th>\n",
       "      <td>__label__6</td>\n",
       "      <td>real estate</td>\n",
       "      <td>54995</td>\n",
       "    </tr>\n",
       "    <tr>\n",
       "      <th>7</th>\n",
       "      <td>__label__7</td>\n",
       "      <td>marketing and advertising</td>\n",
       "      <td>71096</td>\n",
       "    </tr>\n",
       "    <tr>\n",
       "      <th>8</th>\n",
       "      <td>__label__8</td>\n",
       "      <td>information technology and services</td>\n",
       "      <td>73053</td>\n",
       "    </tr>\n",
       "    <tr>\n",
       "      <th>9</th>\n",
       "      <td>__label__9</td>\n",
       "      <td>construction</td>\n",
       "      <td>97373</td>\n",
       "    </tr>\n",
       "  </tbody>\n",
       "</table>\n",
       "</div>"
      ],
      "text/plain": [
       "        label                             industry   size\n",
       "0  __label__0             package/freight delivery   1031\n",
       "1  __label__1                            animation   1035\n",
       "2  __label__2              paper & forest products   1340\n",
       "3  __label__3                international affairs   1370\n",
       "4  __label__4                             wireless   1427\n",
       "5  __label__5         health, wellness and fitness  50568\n",
       "6  __label__6                          real estate  54995\n",
       "7  __label__7            marketing and advertising  71096\n",
       "8  __label__8  information technology and services  73053\n",
       "9  __label__9                         construction  97373"
      ]
     },
     "execution_count": 71,
     "metadata": {},
     "output_type": "execute_result"
    }
   ],
   "source": [
    "ind_size_dict = {ind_ten_mapper[ind]: size for ind, size in grouped_edges['count'].iteritems()}\n",
    "d = {key: [ten_ind_mapper[key], ind_size_dict[key]] for key in ten_ind_mapper.keys()}\n",
    "df = pd.DataFrame.from_dict(d, orient='index', columns=['industry', 'size']).reset_index().rename({'index': 'label'}, axis=1)\n",
    "df.to_csv('/StudentData/Project/ten_ind_mapper.csv', index=False)\n",
    "df"
   ]
  },
  {
   "cell_type": "markdown",
   "id": "40b08790",
   "metadata": {},
   "source": [
    "**Keeping test aside to evaluate all models**"
   ]
  },
  {
   "cell_type": "code",
   "execution_count": 12,
   "id": "31ae76a2",
   "metadata": {},
   "outputs": [],
   "source": [
    "# X_train, X_test, y_train, y_test = train_test_split(frame[['text']], frame[['industry']], test_size=0.15, random_state=42)"
   ]
  },
  {
   "cell_type": "code",
   "execution_count": 16,
   "id": "5b828a82",
   "metadata": {},
   "outputs": [],
   "source": [
    "# test_ds = pd.concat([X_test, y_test], axis=1)\n",
    "# fasttext_test_file_path='/StudentData/Project/processed_test.txt'\n",
    "# test_ds.to_csv(fasttext_test_file_path,\n",
    "#                 index=False,\n",
    "#                 sep=' ',\n",
    "#                 header=None,\n",
    "#                 quoting=csv.QUOTE_NONE,\n",
    "#                 quotechar=\"\",\n",
    "#                 escapechar=\" \")"
   ]
  },
  {
   "cell_type": "code",
   "execution_count": 17,
   "id": "a005ffe5",
   "metadata": {},
   "outputs": [],
   "source": [
    "# test_ds.to_pickle('/StudentData/Project/processed_test.pkl')"
   ]
  },
  {
   "cell_type": "code",
   "execution_count": 18,
   "id": "f94ea524",
   "metadata": {},
   "outputs": [],
   "source": [
    "# frame = pd.concat([X_train, y_train], axis=1)"
   ]
  },
  {
   "cell_type": "code",
   "execution_count": 19,
   "id": "804da2c6",
   "metadata": {},
   "outputs": [],
   "source": [
    "# frame.to_pickle('/StudentData/Project/processed_train.pkl')"
   ]
  },
  {
   "cell_type": "markdown",
   "id": "ab95796e",
   "metadata": {},
   "source": [
    "## Rum from here to use saved data"
   ]
  },
  {
   "cell_type": "code",
   "execution_count": 4,
   "id": "457ab832",
   "metadata": {},
   "outputs": [],
   "source": [
    "# with open('/StudentData/Project/10_classes_data.pkl', 'wb') as f:\n",
    "#     pickle.dump(frame, f)\n",
    "    \n",
    "frame = pd.read_pickle('/StudentData/Project/processed_train.pkl')\n",
    "    \n",
    "mapper_df = pd.read_csv('/StudentData/Project/ten_ind_mapper.csv')"
   ]
  },
  {
   "cell_type": "code",
   "execution_count": 14,
   "id": "0b6ae898",
   "metadata": {},
   "outputs": [],
   "source": [
    "test_ds = pd.read_pickle('/StudentData/Project/processed_test.pkl')"
   ]
  },
  {
   "cell_type": "code",
   "execution_count": 5,
   "id": "5eae5c7c",
   "metadata": {},
   "outputs": [
    {
     "name": "stdout",
     "output_type": "stream",
     "text": [
      "ten_ind_mapper:\n",
      "{'__label__0': 'package/freight delivery',\n",
      " '__label__1': 'animation',\n",
      " '__label__2': 'paper & forest products',\n",
      " '__label__3': 'international affairs',\n",
      " '__label__4': 'wireless',\n",
      " '__label__5': 'health, wellness and fitness',\n",
      " '__label__6': 'real estate',\n",
      " '__label__7': 'marketing and advertising',\n",
      " '__label__8': 'information technology and services',\n",
      " '__label__9': 'construction'}\n",
      "\n",
      "ind_ten_mapper:\n",
      "{'animation': '__label__1',\n",
      " 'construction': '__label__9',\n",
      " 'health, wellness and fitness': '__label__5',\n",
      " 'information technology and services': '__label__8',\n",
      " 'international affairs': '__label__3',\n",
      " 'marketing and advertising': '__label__7',\n",
      " 'package/freight delivery': '__label__0',\n",
      " 'paper & forest products': '__label__2',\n",
      " 'real estate': '__label__6',\n",
      " 'wireless': '__label__4'}\n",
      "\n",
      "ind_size_dict:\n",
      "{'__label__0': 1031,\n",
      " '__label__1': 1035,\n",
      " '__label__2': 1340,\n",
      " '__label__3': 1370,\n",
      " '__label__4': 1427,\n",
      " '__label__5': 50568,\n",
      " '__label__6': 54995,\n",
      " '__label__7': 71096,\n",
      " '__label__8': 73053,\n",
      " '__label__9': 97373}\n"
     ]
    }
   ],
   "source": [
    "ten_ind_mapper = mapper_df[['label', 'industry']].set_index('label')['industry'].to_dict()\n",
    "ind_ten_mapper = {value: key for key, value in ten_ind_mapper.items()}\n",
    "ind_size_dict = mapper_df[['label', 'size']].set_index('label')['size'].to_dict()\n",
    "\n",
    "\n",
    "print(\"ten_ind_mapper:\")\n",
    "pprint(ten_ind_mapper)\n",
    "print(\"\\nind_ten_mapper:\")\n",
    "pprint(ind_ten_mapper)\n",
    "print(\"\\nind_size_dict:\")\n",
    "pprint(ind_size_dict)"
   ]
  },
  {
   "cell_type": "code",
   "execution_count": 10,
   "id": "645e2e95",
   "metadata": {},
   "outputs": [],
   "source": [
    "frame['id'] = frame.index + 1\n",
    "n_industries = 5\n",
    "lower_limit = 1000\n",
    "grouped = frame.groupby('industry').count()[['id']].rename({'id': 'count'}, axis='columns').sort_values('count')\n",
    "grouped_edges = grouped.sort_values('industry').reset_index()\n",
    "grouped_edges['industry'] = grouped_edges['industry'].apply(lambda x: ten_ind_mapper[x])\n",
    "grouped_edges = grouped_edges.set_index('industry')\n"
   ]
  },
  {
   "cell_type": "code",
   "execution_count": 11,
   "id": "e823b36a",
   "metadata": {},
   "outputs": [
    {
     "data": {
      "image/png": "[encoded data removed]",
      "text/plain": [
       "<Figure size 1440x1080 with 1 Axes>"
      ]
     },
     "metadata": {
      "needs_background": "light"
     },
     "output_type": "display_data"
    }
   ],
   "source": [
    "ax = grouped_edges['count'].plot(kind='barh', logx=True, color =['r']*n_industries+['b']*n_industries, figsize=(20, 15), fontsize=25)\n",
    "colors = {'5 Most Common Industries':'blue', '5 Least Common Industries':'red'}         \n",
    "labels = list(colors.keys())\n",
    "handles = [plt.Rectangle((0,0),1,1, color=colors[label]) for label in labels]\n",
    "ax.legend(handles, labels, fontsize=25)\n",
    "ax.set_xlabel('Amount of Companies - Log Scale', fontsize=25)\n",
    "ax.set_ylabel('Industry', fontsize=25);\n",
    "ax.set_title('Industry Volumes Log Scale', x=0.3 ,y=1.05, fontsize=30);\n"
   ]
  },
  {
   "cell_type": "markdown",
   "id": "3f860020",
   "metadata": {},
   "source": [
    "## Evaluating fasttext model using the regular dataset"
   ]
  },
  {
   "cell_type": "code",
   "execution_count": 15,
   "id": "78e7db49",
   "metadata": {},
   "outputs": [],
   "source": [
    "def train_model(train_df, fasttext_train_file_path, save_model_path=None):\n",
    "    print(\"started writing train file\")\n",
    "    train_df.to_csv(fasttext_train_file_path,\n",
    "                    index=False,\n",
    "                    sep=' ',\n",
    "                    header=None,\n",
    "                    quoting=csv.QUOTE_NONE,\n",
    "                    quotechar=\"\",\n",
    "                    escapechar=\" \")\n",
    "\n",
    "    model_params = {'dim': 90, 'epoch': 14, 'lr': 0.05, 'lrUpdateRate': 100, 'maxn': 0, 'minCount': 1, 'minn': 0,\n",
    "                    'neg': 5, 't': 0.0001, 'thread': 12, 'verbose': 2, 'ws': 5}\n",
    "    model = Model(model_params)\n",
    "    print('started training')\n",
    "    model.train(fasttext_train_file_path, save_model_path=save_model_path)\n",
    "    print('finished training')\n",
    "\n",
    "    return model\n",
    "\n",
    "\n",
    "def evaluate_model(model, test_df, ind_size_dict, method=None):\n",
    "    y_pred = model.predict(texts=test_df['text'])\n",
    "    f1_dict = {}\n",
    "    f1_dict['micro'] = model.calc_f1(test_ds['industry'], y_pred, 'micro')\n",
    "    f1_dict['macro'] = model.calc_f1(test_ds['industry'], y_pred, 'macro')\n",
    "    f1_dict['weighted'] = model.calc_f1(test_ds['industry'], y_pred, 'weighted')\n",
    "    \n",
    "    for avg, f1 in f1_dict.items():\n",
    "        print(f\"f1_{avg}: \", round(f1, 3))\n",
    "\n",
    "    sensitivities = {}\n",
    "    sizes = []\n",
    "    for industry in sorted(ind_size_dict.keys()):\n",
    "        sensitivity_per_ind = model.sensitivity_per_ind(industry, test_ds['industry'], y_pred)\n",
    "        print(\"Recall for\", industry, ':', round(sensitivity_per_ind, 3), ' \\tThe size is:',\n",
    "              ind_size_dict[industry])\n",
    "        sensitivities[industry] = sensitivity_per_ind\n",
    "        sizes.append(ind_size_dict[industry])\n",
    "\n",
    "    sizes = np.array(list(ind_size_dict.values()))\n",
    "    \n",
    "    fig, ax = plt.subplots(figsize=(7.5, 5))\n",
    "    ax.scatter(np.log(np.array(sizes)), sensitivities.values())\n",
    "    ax.set_ylim((-0.1, 1.1))\n",
    "    ax.set_xlabel('Amount of Records in Industry - log scale', fontsize=14)\n",
    "    ax.set_ylabel('Recall', rotation=0, fontsize=14, labelpad=30)\n",
    "    ax.set_title(f'Recall Per Industry - {method}', fontsize=16);\n",
    "    return f1_dict, sensitivities"
   ]
  },
  {
   "cell_type": "code",
   "execution_count": 16,
   "id": "a3cf89be",
   "metadata": {},
   "outputs": [
    {
     "name": "stderr",
     "output_type": "stream",
     "text": [
      "Warning : `load_model` does not return WordVectorModel or SupervisedModel any more, but a `FastText` object which is very similar.\n"
     ]
    },
    {
     "name": "stdout",
     "output_type": "stream",
     "text": [
      "f1_micro:  0.857\n",
      "f1_macro:  0.571\n",
      "f1_weighted:  0.853\n",
      "Recall for __label__0 : 0.08  \tThe size is: 1031\n",
      "Recall for __label__1 : 0.154  \tThe size is: 1035\n",
      "Recall for __label__2 : 0.286  \tThe size is: 1340\n",
      "Recall for __label__3 : 0.211  \tThe size is: 1370\n",
      "Recall for __label__4 : 0.199  \tThe size is: 1427\n",
      "Recall for __label__5 : 0.892  \tThe size is: 50568\n",
      "Recall for __label__6 : 0.845  \tThe size is: 54995\n",
      "Recall for __label__7 : 0.852  \tThe size is: 71096\n",
      "Recall for __label__8 : 0.832  \tThe size is: 73053\n",
      "Recall for __label__9 : 0.914  \tThe size is: 97373\n"
     ]
    },
    {
     "data": {
      "image/png": "[encoded data removed]",
      "text/plain": [
       "<Figure size 540x360 with 1 Axes>"
      ]
     },
     "metadata": {
      "needs_background": "light"
     },
     "output_type": "display_data"
    }
   ],
   "source": [
    "set_seed()\n",
    "\n",
    "fasttext_train_file_path='/StudentData/Project/Regular/regular_processed_train.txt'\n",
    "save_model_path = '/StudentData/Project/Regular/regular_model.pth'\n",
    "\n",
    "used_saved_models = True\n",
    "if used_saved_models:\n",
    "    model_reg = Model(saved_model_path=save_model_path)\n",
    "else:\n",
    "    model_reg = train_model(frame, fasttext_train_file_path, save_model_path=None)\n",
    "\n",
    "f1_reg, sensitivities_reg = evaluate_model(model_reg, test_ds, ind_size_dict, 'Regular')"
   ]
  },
  {
   "cell_type": "markdown",
   "id": "a20b52e4",
   "metadata": {},
   "source": [
    "## Undersampling"
   ]
  },
  {
   "cell_type": "code",
   "execution_count": 36,
   "id": "636cd939",
   "metadata": {},
   "outputs": [
    {
     "data": {
      "text/plain": [
       "1031"
      ]
     },
     "execution_count": 36,
     "metadata": {},
     "output_type": "execute_result"
    }
   ],
   "source": [
    "num_samples_undersample = min(ind_size_dict.values())\n",
    "num_samples_undersample"
   ]
  },
  {
   "cell_type": "code",
   "execution_count": 37,
   "id": "1d9b2921",
   "metadata": {},
   "outputs": [],
   "source": [
    "def undersample(df: pd.DataFrame, threshold: int, seed: int):\n",
    "    final_dfs_list = []\n",
    "    for industry in df.industry.unique():\n",
    "        temp_df = df[df['industry'] == industry]\n",
    "        if len(temp_df) > threshold:\n",
    "            temp_df = temp_df.sample(threshold, random_state=seed)\n",
    "        final_dfs_list.append(temp_df)\n",
    "    final_df = pd.concat(final_dfs_list)\n",
    "    return final_df"
   ]
  },
  {
   "cell_type": "code",
   "execution_count": 38,
   "id": "7721be00",
   "metadata": {},
   "outputs": [],
   "source": [
    "undersample_df = undersample(frame, num_samples_undersample, 42)"
   ]
  },
  {
   "cell_type": "code",
   "execution_count": 17,
   "id": "cdfbd76a",
   "metadata": {
    "scrolled": false
   },
   "outputs": [
    {
     "name": "stderr",
     "output_type": "stream",
     "text": [
      "Warning : `load_model` does not return WordVectorModel or SupervisedModel any more, but a `FastText` object which is very similar.\n"
     ]
    },
    {
     "name": "stdout",
     "output_type": "stream",
     "text": [
      "f1_micro:  0.224\n",
      "f1_macro:  0.095\n",
      "f1_weighted:  0.169\n",
      "Recall for __label__0 : 0.018  \tThe size is: 1031\n",
      "Recall for __label__1 : 0.195  \tThe size is: 1035\n",
      "Recall for __label__2 : 0.179  \tThe size is: 1340\n",
      "Recall for __label__3 : 0.775  \tThe size is: 1370\n",
      "Recall for __label__4 : 0.0  \tThe size is: 1427\n",
      "Recall for __label__5 : 0.006  \tThe size is: 50568\n",
      "Recall for __label__6 : 0.01  \tThe size is: 54995\n",
      "Recall for __label__7 : 0.6  \tThe size is: 71096\n",
      "Recall for __label__8 : 0.459  \tThe size is: 73053\n",
      "Recall for __label__9 : 0.001  \tThe size is: 97373\n"
     ]
    },
    {
     "data": {
      "image/png": "[encoded data removed]",
      "text/plain": [
       "<Figure size 540x360 with 1 Axes>"
      ]
     },
     "metadata": {
      "needs_background": "light"
     },
     "output_type": "display_data"
    }
   ],
   "source": [
    "set_seed()\n",
    "fasttext_train_file_path='/StudentData/Project/Undersampled/undersample_processed_train.txt'\n",
    "save_model_path = '/StudentData/Project/Undersampled/undersample_model.pth'\n",
    "\n",
    "used_saved_models = True\n",
    "if used_saved_models:\n",
    "    model_undersample = Model(saved_model_path=save_model_path)\n",
    "else:\n",
    "    model_undersample = train_model(undersample_df, fasttext_train_file_path, save_model_path=save_model_path)\n",
    "\n",
    "f1_undersample, sensitivities_undersample = evaluate_model(model_undersample, test_ds, ind_size_dict, 'Undersample')"
   ]
  },
  {
   "cell_type": "markdown",
   "id": "71c14077",
   "metadata": {},
   "source": [
    "## Oversampling"
   ]
  },
  {
   "cell_type": "code",
   "execution_count": 43,
   "id": "6e8601fd",
   "metadata": {},
   "outputs": [
    {
     "data": {
      "text/plain": [
       "97373"
      ]
     },
     "execution_count": 43,
     "metadata": {},
     "output_type": "execute_result"
    }
   ],
   "source": [
    "num_samples_oversample = max(ind_size_dict.values())\n",
    "num_samples_oversample"
   ]
  },
  {
   "cell_type": "code",
   "execution_count": 44,
   "id": "91a596c9",
   "metadata": {},
   "outputs": [],
   "source": [
    "def oversample(df: pd.DataFrame, threshold: int, seed: int):\n",
    "    final_dfs_list = []\n",
    "    for industry in df.industry.unique():\n",
    "        temp_df = df[df['industry'] == industry]\n",
    "        if len(temp_df) < threshold:\n",
    "            temp_df = temp_df.sample(threshold, random_state=seed, replace=True)\n",
    "        final_dfs_list.append(temp_df)\n",
    "    final_df = pd.concat(final_dfs_list)\n",
    "    return final_df"
   ]
  },
  {
   "cell_type": "code",
   "execution_count": 45,
   "id": "9c440a31",
   "metadata": {},
   "outputs": [],
   "source": [
    "oversample_df = oversample(frame, num_samples_oversample, 42)"
   ]
  },
  {
   "cell_type": "code",
   "execution_count": 18,
   "id": "e7fc92dd",
   "metadata": {},
   "outputs": [
    {
     "name": "stderr",
     "output_type": "stream",
     "text": [
      "Warning : `load_model` does not return WordVectorModel or SupervisedModel any more, but a `FastText` object which is very similar.\n"
     ]
    },
    {
     "name": "stdout",
     "output_type": "stream",
     "text": [
      "f1_micro:  0.844\n",
      "f1_macro:  0.656\n",
      "f1_weighted:  0.846\n",
      "Recall for __label__0 : 0.613  \tThe size is: 1031\n",
      "Recall for __label__1 : 0.456  \tThe size is: 1035\n",
      "Recall for __label__2 : 0.622  \tThe size is: 1340\n",
      "Recall for __label__3 : 0.559  \tThe size is: 1370\n",
      "Recall for __label__4 : 0.485  \tThe size is: 1427\n",
      "Recall for __label__5 : 0.883  \tThe size is: 50568\n",
      "Recall for __label__6 : 0.837  \tThe size is: 54995\n",
      "Recall for __label__7 : 0.839  \tThe size is: 71096\n",
      "Recall for __label__8 : 0.813  \tThe size is: 73053\n",
      "Recall for __label__9 : 0.876  \tThe size is: 97373\n"
     ]
    },
    {
     "data": {
      "image/png": "[encoded data removed]",
      "text/plain": [
       "<Figure size 540x360 with 1 Axes>"
      ]
     },
     "metadata": {
      "needs_background": "light"
     },
     "output_type": "display_data"
    }
   ],
   "source": [
    "set_seed()\n",
    "fasttext_train_file_path='/StudentData/Project/Oversampled/oversample_processed_train.txt'\n",
    "save_model_path = '/StudentData/Project/Oversampled/oversample_model.pth'\n",
    "\n",
    "used_saved_models = True\n",
    "\n",
    "if used_saved_models:\n",
    "    model_oversample = Model(saved_model_path=save_model_path)\n",
    "else:\n",
    "    model_oversample = train_model(oversample_df, fasttext_train_file_path, save_model_path=save_model_path)\n",
    "\n",
    "f1_oversample, sensitivities_oversample = evaluate_model(model_oversample, test_ds, ind_size_dict, 'Oversample')"
   ]
  },
  {
   "cell_type": "markdown",
   "id": "7a1ea142",
   "metadata": {},
   "source": [
    "# Working with generated data"
   ]
  },
  {
   "cell_type": "markdown",
   "id": "b99bcf10",
   "metadata": {},
   "source": [
    "### Loading data from final directory"
   ]
  },
  {
   "cell_type": "code",
   "execution_count": 23,
   "id": "b1190232",
   "metadata": {},
   "outputs": [],
   "source": [
    "final_files = glob.glob(\"/StudentData/Project/Generative/GeneratedOutputs/FinalOutputs/generated_list_*.pkl\")\n",
    "generated_dict = {}\n",
    "for i, filepath in enumerate(final_files):\n",
    "    with open(filepath, 'rb') as f:\n",
    "        generated_dict[int(filepath.split('.pkl')[0][-1])] = pickle.load(f)"
   ]
  },
  {
   "cell_type": "code",
   "execution_count": 25,
   "id": "6a39e219",
   "metadata": {},
   "outputs": [],
   "source": [
    "def concat_generated_data(df: pd.DataFrame, generated_dict):\n",
    "    final_dfs_list = [df.copy()]\n",
    "    for ind_num, generated_list in generated_dict.items():\n",
    "        temp_generated_df = pd.DataFrame({'text': generated_list, 'industry': [f'__label__{ind_num}']*len(generated_list)})\n",
    "        final_dfs_list.append(temp_generated_df)\n",
    "    final_df = pd.concat(final_dfs_list)\n",
    "    return final_df"
   ]
  },
  {
   "cell_type": "code",
   "execution_count": 26,
   "id": "5bfbd861",
   "metadata": {},
   "outputs": [],
   "source": [
    "generated_df = concat_generated_data(frame, generated_dict)"
   ]
  },
  {
   "cell_type": "code",
   "execution_count": 27,
   "id": "2c0ae80b",
   "metadata": {
    "scrolled": false
   },
   "outputs": [
    {
     "name": "stdout",
     "output_type": "stream",
     "text": [
      "started writing train file\n",
      "started training\n",
      "finished training\n",
      "f1_micro:  0.859\n",
      "f1_macro:  0.692\n",
      "f1_weighted:  0.858\n",
      "Recall for __label__0 : 0.448  \tThe size is: 1031\n",
      "Recall for __label__1 : 0.355  \tThe size is: 1035\n",
      "Recall for __label__2 : 0.541  \tThe size is: 1340\n",
      "Recall for __label__3 : 0.432  \tThe size is: 1370\n",
      "Recall for __label__4 : 0.379  \tThe size is: 1427\n",
      "Recall for __label__5 : 0.888  \tThe size is: 50568\n",
      "Recall for __label__6 : 0.843  \tThe size is: 54995\n",
      "Recall for __label__7 : 0.85  \tThe size is: 71096\n",
      "Recall for __label__8 : 0.826  \tThe size is: 73053\n",
      "Recall for __label__9 : 0.912  \tThe size is: 97373\n"
     ]
    },
    {
     "data": {
      "image/png": "[encoded data removed]",
      "text/plain": [
       "<Figure size 540x360 with 1 Axes>"
      ]
     },
     "metadata": {
      "needs_background": "light"
     },
     "output_type": "display_data"
    }
   ],
   "source": [
    "set_seed()\n",
    "\n",
    "fasttext_train_file_path='/StudentData/Project/Generative/generated_processed_train.txt'\n",
    "save_model_path = '/StudentData/Project/Generative/generated_model.pth'\n",
    "\n",
    "used_saved_models = False\n",
    "if used_saved_models:\n",
    "    model_generated = Model(saved_model_path=save_model_path)\n",
    "else:\n",
    "    model_generated = train_model(generated_df, fasttext_train_file_path, save_model_path=save_model_path)\n",
    "\n",
    "f1_generated, sensitivities_generated = evaluate_model(model_generated, test_ds, ind_size_dict, 'Generative')"
   ]
  },
  {
   "cell_type": "markdown",
   "id": "9cbabaa7",
   "metadata": {},
   "source": [
    "## Comparing results from all models"
   ]
  },
  {
   "cell_type": "code",
   "execution_count": 32,
   "id": "fd28ae6b",
   "metadata": {
    "scrolled": false
   },
   "outputs": [],
   "source": [
    "rows = []\n",
    "for (ind, reg_sen, under_sen, over_sen, gen_sen) in zip(sensitivities_reg.keys(), sensitivities_reg.values(), \n",
    "                                                       sensitivities_undersample.values(), sensitivities_oversample.values(),\n",
    "                                                       sensitivities_generated.values()):\n",
    "    rows.append([ind, reg_sen, under_sen, over_sen, gen_sen])\n",
    "recall_df = pd.DataFrame(rows,\n",
    "                  columns=['Industry', 'Regular', 'Undersample', 'Oversample', 'Generate'])"
   ]
  },
  {
   "cell_type": "code",
   "execution_count": 40,
   "id": "1278038e",
   "metadata": {},
   "outputs": [
    {
     "data": {
      "image/png": "[encoded data removed]",
      "text/plain": [
       "<Figure size 1080x360 with 2 Axes>"
      ]
     },
     "metadata": {
      "needs_background": "light"
     },
     "output_type": "display_data"
    }
   ],
   "source": [
    "recall_df['size'] = recall_df['Industry'].apply(lambda x: 'Infrequent' if int(x[-1]) <5 else 'Frequent')\n",
    "frequent_df = recall_df[recall_df['size'] == 'Frequent']\n",
    "infrequent_df = recall_df[recall_df['size'] == 'Infrequent']\n",
    "\n",
    "fig, axs = plt.subplots(1, 2, figsize=(15,5))\n",
    "column_order = ['Industry', 'Regular', 'Undersample', 'Generate', 'Oversample']\n",
    "infrequent_df[column_order].mean().plot.bar(ax=axs[0], rot=0, fontsize=12)\n",
    "frequent_df[column_order].mean().plot.bar(ax=axs[1], rot=0, fontsize=12)\n",
    "fig.suptitle('Average Recall per Industry for every Method', fontsize=17, y=1.05)\n",
    "axs[0].set_title('Infrequent Industies', fontsize=15)\n",
    "axs[1].set_title('Frequent Industies', fontsize=15)\n",
    "axs[0].set_ylabel('Average Recall per Industry', fontsize=12)\n",
    "axs[1].set_ylabel('Average Recall per Industry', fontsize=12)\n",
    "axs[0].set_ylim(0, 1)\n",
    "axs[1].set_ylim(0, 1);"
   ]
  },
  {
   "cell_type": "code",
   "execution_count": 31,
   "id": "e9613134",
   "metadata": {},
   "outputs": [
    {
     "data": {
      "image/png": "[encoded data removed]",
      "text/plain": [
       "<Figure size 1080x432 with 2 Axes>"
      ]
     },
     "metadata": {
      "needs_background": "light"
     },
     "output_type": "display_data"
    }
   ],
   "source": [
    "f1_df = pd.DataFrame([['Regular']+list(f1_reg.values()), ['Undersample']+list(f1_undersample.values()), \\\n",
    "                     ['Oversample']+list(f1_oversample.values()), ['Generated']+list(f1_generated.values())], \\\n",
    "                  columns=['Method', 'Micro F1', 'Macro F1', 'f1-wieghted']).set_index('Method', drop=True)\n",
    "\n",
    "fig, axs = plt.subplots(1, 2, figsize=(15,6))\n",
    "# plot grouped bar chart\n",
    "row_order = ['Undersample', 'Regular', 'Oversample', 'Generated']\n",
    "\n",
    "for i, meassure in enumerate(['Micro F1', 'Macro F1']):\n",
    "    f1_df.loc[row_order][[meassure]].plot(kind='bar', stacked=False, ax=axs[i], rot=0, fontsize=12, legend=False)\n",
    "    axs[i].set_title(f'{meassure} for every Method', fontsize=15)\n",
    "    axs[i].set_ylabel(f'{meassure}', rotation=0, labelpad=20, fontsize=12);\n",
    "    axs[i].set_xlabel('Method',fontsize=12);\n"
   ]
  },
  {
   "cell_type": "markdown",
   "id": "e40f4950",
   "metadata": {},
   "source": [
    "### Comparing fine tuned T5 to pre-trained"
   ]
  },
  {
   "cell_type": "code",
   "execution_count": 34,
   "id": "29215815",
   "metadata": {},
   "outputs": [],
   "source": [
    "from transformers import T5ForConditionalGeneration, AutoTokenizer\n"
   ]
  },
  {
   "cell_type": "code",
   "execution_count": 35,
   "id": "6c54cd37",
   "metadata": {},
   "outputs": [],
   "source": [
    "tokenizer = AutoTokenizer.from_pretrained(\"t5-base\")\n",
    "model = T5ForConditionalGeneration.from_pretrained(f'/StudentData/Project/Generative/Models/model_0.hfm')"
   ]
  },
  {
   "cell_type": "code",
   "execution_count": 36,
   "id": "8a95d491",
   "metadata": {},
   "outputs": [],
   "source": [
    "text_input = 'summarize: package freight delivery. UPS delivery, ordering delivery service has never been faster and easier'\n",
    "inputs = tokenizer(text_input, return_tensors=\"pt\", padding=True)"
   ]
  },
  {
   "cell_type": "code",
   "execution_count": 37,
   "id": "53d931f7",
   "metadata": {},
   "outputs": [],
   "source": [
    "outputs = model.generate(\n",
    "    input_ids=inputs['input_ids'],\n",
    "    attention_mask=inputs['attention_mask'],\n",
    "    do_sample=False,\n",
    "    num_beams=4, no_repeat_ngram_size=2, min_length=200, max_length=300\n",
    ")"
   ]
  },
  {
   "cell_type": "markdown",
   "id": "98e733ea",
   "metadata": {},
   "source": [
    "### This is an example of generated text"
   ]
  },
  {
   "cell_type": "code",
   "execution_count": 38,
   "id": "d1bc68a2",
   "metadata": {},
   "outputs": [
    {
     "data": {
      "text/plain": [
       "\"UPS delivery, ordering delivery service has never been faster and easier. the fastest and easiest way to get a package delivered is to use the UPS courier service, which is based in california. UPS is the world's largest courier company, supplying the highest quality of service to our customers. We are able to deliver your package in as little as 24 hours. You can expect to receive your packages in less than 48 hours if you choose to order with us. The fastest, most efficient and most cost-effective way of getting the packages you need to be delivered to you in the most expedited delivery method is by using the courier services are available to your home delivery services, such as e-mail delivery and the same day delivery & retransmission service provider, the largest and fastest shipping service providers, and u.s. and other international shipping services and courier companies, as well as courier couriers, in just 24 hour \""
      ]
     },
     "execution_count": 38,
     "metadata": {},
     "output_type": "execute_result"
    }
   ],
   "source": [
    "tokenizer.batch_decode(outputs, skip_special_tokens=True)[0]"
   ]
  },
  {
   "cell_type": "markdown",
   "id": "357f6f63",
   "metadata": {},
   "source": [
    "### This is an example of real text"
   ]
  },
  {
   "cell_type": "code",
   "execution_count": 284,
   "id": "a783b399",
   "metadata": {},
   "outputs": [
    {
     "data": {
      "text/plain": [
       "' since 2000, we have provided quality services across southwestern ontario including hamilton, burlington, london, brantford, woodstock, and orangeville. our friendly, professional, uniformed move teams are highly efficient and will make your move smooth. we take a 100 service-oriented attitude with each project. our hours are flexible to work around your busy schedule and all moves are conducted with the utmost professionalism. we are available for office moves, internal moves, office furniture installation and reconfiguration and plastic moving bins rentals. the easier office relocation & moving solution there is no magic wand that will make your move easy but, proper planning will. that is why our project planner will meet with you to coordinate your move prior to your moving date. this will not only save you from unnecessary headaches, but will also make the move happen that much faster. and, because we care about our clients no matter what time of day it is, we also offer after-hours service. storage solutions need short- or long-term storage solutions while you sort out your move? no problem. a-plus office movers inc has secure, climate-controlled facilities for all your storage needs. plastic moving bins rentals by offering reusable plastic moving bins, we are doing our green part to minimize unnecessary waste in ontario'"
      ]
     },
     "execution_count": 284,
     "metadata": {},
     "output_type": "execute_result"
    }
   ],
   "source": [
    "frame[frame['industry'] == '__label__0']['text'].iloc[7].lower()"
   ]
  }
 ],
 "metadata": {
  "kernelspec": {
   "display_name": "Python 3",
   "language": "python",
   "name": "python3"
  },
  "language_info": {
   "codemirror_mode": {
    "name": "ipython",
    "version": 3
   },
   "file_extension": ".py",
   "mimetype": "text/x-python",
   "name": "python",
   "nbconvert_exporter": "python",
   "pygments_lexer": "ipython3",
   "version": "3.8.8"
  }
 },
 "nbformat": 4,
 "nbformat_minor": 5
}
